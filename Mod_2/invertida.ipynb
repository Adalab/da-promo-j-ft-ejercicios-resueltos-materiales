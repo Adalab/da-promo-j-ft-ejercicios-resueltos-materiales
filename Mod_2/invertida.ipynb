{
 "cells": [
  {
   "cell_type": "markdown",
   "metadata": {},
   "source": [
    "¿Qué es SQL?\n",
    "SQL, que significa Structured Query Language (Lenguaje de Consulta Estructurado), es un lenguaje utilizado para comunicarse con bases de datos. Imagina que SQL es como el idioma que utilizas para hacerle preguntas a una base de datos, decirle qué datos quieres ver, o incluso cómo deseas que se organicen esos datos. Es una herramienta poderosa que permite extraer, modificar, y gestionar información almacenada en una base de datos de manera precisa y eficiente."
   ]
  },
  {
   "cell_type": "markdown",
   "metadata": {},
   "source": []
  },
  {
   "cell_type": "markdown",
   "metadata": {},
   "source": [
    "💗 Ejemplito: Imaginemos una base de datos como una biblioteca gigante. \n",
    "\n",
    "Cada libro es como un \"registro\", cada estantería es una \"tabla\", y el título de cada libro es un \"atributo\".\n",
    "\n",
    "Si entendemos esto, entonces MySQL es como el bibliotecario que te ayuda a encontrar los libros que necesitas y a mantener la biblioteca organizada. \n",
    "\n"
   ]
  },
  {
   "cell_type": "code",
   "execution_count": null,
   "metadata": {
    "vscode": {
     "languageId": "plaintext"
    }
   },
   "outputs": [],
   "source": []
  }
 ],
 "metadata": {
  "language_info": {
   "name": "python"
  }
 },
 "nbformat": 4,
 "nbformat_minor": 2
}
