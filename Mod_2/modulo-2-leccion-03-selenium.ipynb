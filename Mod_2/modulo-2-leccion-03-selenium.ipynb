{
 "cells": [
  {
   "cell_type": "markdown",
   "metadata": {},
   "source": [
    "# Resumen Selenium\n",
    "\n",
    "- Herramienta para automatizar el navegador que nos permite extraer datos de páginas web\n",
    "\n",
    "\n",
    "## Métodos más importantes - El driver es el elemento al que aplicamos los métodos, es un objeto de Selenium\n",
    "\n",
    "\n",
    "- webdriver.Chrome() >>> Para inicializar el navegador\n",
    "\n",
    "- driver.get(url) >>> Para acceder a la url\n",
    "\n",
    "- driver.find_elements() >>> Para econtrar los elementos de distintas maneras, con distintos IDs    \n",
    "\n",
    "- driver.find_elements().click() >>> Para clicar en botones\n",
    "\n",
    "- driver.find_elements().text >>> Para que devuelva el texto de un elemento especifico\n",
    "\n",
    "- driver.find_elements().send_keys() >>> Para ingresar texto\n",
    "\n",
    "- driver.close() >>> Para cerrar el navegador \n",
    "\n",
    "- driver.implicitly_wait(tiempo) >>> Espera el tiempo determinado y si puede realiza antes la acción\n",
    "\n",
    "- driver.save_screenshot(\"nombre_del_archivo.png\") >>> Hace una captura de pantalla\n",
    "\n",
    "\n",
    "## Otro métodos\n",
    "\n",
    "- sleep() >>> Usar sleeps variables (con random) para no ser robótico y predecible (Pertenece a la librería Time: From Time import sleep)\n",
    "\n",
    "## Notas Adicionales\n",
    "\n",
    "- Construir nuestro propio xpath: Truco interesante, pendiente de investigación"
   ]
  },
  {
   "cell_type": "markdown",
   "metadata": {},
   "source": [
    "# Ejercicios\n",
    "Escribe un script en Python utilizando Selenium que realice las siguientes tareas en la página web del Decathlon:\n",
    "\n",
    "1. Abra una el navegador y maximice la ventana.\n",
    "\n",
    "2. Acceda al sitio web de Decathlon en la URL \"https://www.decathlon.es/\".\n",
    "\n",
    "3. Haga clic en el botón \"Aceptar\" en la notificación de cookies utilizando su selector CSS.\n",
    "\n",
    "4. Solicite al usuario que ingrese una búsqueda (por ejemplo, un producto deportivo) mediante una entrada de texto.\n",
    "\n",
    "5. Utilice el texto ingresado para buscar productos en el sitio web de Decathlon y presione la tecla \"Enter\" para iniciar la búsqueda.\n",
    "\n",
    "6. Inicialice un diccionario llamado `diccionario_resultados` con tres listas vacías: \"nombre\", \"precio\" y \"puntuación\".\n",
    "\n",
    "7. Itere sobre los primeros 5 resultados de la búsqueda y realice las siguientes acciones:\n",
    "\n",
    "    a. Haga clic en un resultado específico.\n",
    "    b. Recopile el nombre del producto, el precio y la puntuación del producto y almacénelos en las listas correspondientes en el diccionario `diccionario_resultados`.\n",
    "\n",
    "    c. Navegue de regreso a los resultados de búsqueda.\n",
    "\n",
    "8. Cierre el navegador Chrome.\n",
    "\n",
    "El resultado final debería ser un diccionario con información sobre los primeros 5 productos encontrados durante la búsqueda en el sitio web de Decathlon, incluyendo el nombre del producto, el precio y la puntuación. Muestralo en un DataFrame similar al ves a continuación: \n",
    "\n",
    "| nombre                                             | precio    | puntuacion |\n",
    "|----------------------------------------------------|-----------|------------|\n",
    "| Camiseta Real Madrid Local Adulto Temporada 23/24  | 99,99 €   | 5/5        |\n",
    "| Camiseta térmica interior de esquí y nieve Muj... | 6,99 €    | 4.7/5      |\n",
    "| Camiseta running térmica transpirable Mujer Ki... | 19,99 €   | 4.8/5      |\n",
    "| Camiseta térmica running Mujer negra              | 14,99 €   | 4.7/5      |\n",
    "| Camiseta de fútbol Adulto Kipsta F100 roja         | 5,99 €    | 4.5/5      |\n",
    "\n"
   ]
  },
  {
   "cell_type": "markdown",
   "metadata": {},
   "source": [
    "🌼 Importanción librerías "
   ]
  },
  {
   "cell_type": "code",
   "execution_count": 1,
   "metadata": {},
   "outputs": [],
   "source": [
    "from bs4 import BeautifulSoup\n",
    "import requests\n",
    "import pandas as pd\n",
    "# Importar librerías para automatización de navegadores web con Selenium\n",
    "# -----------------------------------------------------------------------\n",
    "from selenium import webdriver  # Selenium es una herramienta para automatizar la interacción con navegadores web.\n",
    "from webdriver_manager.chrome import ChromeDriverManager  # ChromeDriverManager gestiona la instalación del controlador de Chrome.\n",
    "from selenium.webdriver.common.keys import Keys  # Keys es útil para simular eventos de teclado en Selenium.\n",
    "from selenium.webdriver.support.ui import Select  # Select se utiliza para interactuar con elementos <select> en páginas web.\n",
    "# Importar librerías para pausar la ejecución\n",
    "# -----------------------------------------------------------------------\n",
    "from time import sleep"
   ]
  },
  {
   "cell_type": "markdown",
   "metadata": {},
   "source": [
    " 🌼 Abra una el navegador, maximice la ventana y acceda al sitio web de Decathlon en la URL \"https://www.decathlon.es/\"."
   ]
  },
  {
   "cell_type": "code",
   "execution_count": null,
   "metadata": {},
   "outputs": [],
   "source": [
    "# Inicializar un navegador web Chrome a través de WebDriver\n",
    "driver = webdriver.Chrome()\n",
    "\n",
    "# Navegar a la página web de Decathlon\n",
    "driver.get(\"https://www.decathlon.es/\")\n",
    "\n",
    "# Maximizar la ventana del navegador\n",
    "driver.maximize_window()\n",
    "\n",
    "# Pausa de 3 segundos\n",
    "sleep(3)"
   ]
  },
  {
   "cell_type": "markdown",
   "metadata": {},
   "source": [
    "🌼 Haga clic en el botón \"Aceptar\" en la notificación de cookies utilizando su selector CSS."
   ]
  },
  {
   "cell_type": "code",
   "execution_count": null,
   "metadata": {},
   "outputs": [],
   "source": [
    "selector = driver.find_element(\"css selector\", \"#didomi-notice-agree-button\").click()"
   ]
  },
  {
   "cell_type": "markdown",
   "metadata": {},
   "source": [
    "🌼 Solicite al usuario que ingrese una búsqueda (por ejemplo, un producto deportivo) mediante una entrada de texto."
   ]
  },
  {
   "cell_type": "code",
   "execution_count": null,
   "metadata": {},
   "outputs": [],
   "source": [
    "eleccion_usuario = input(\"¡Hola!, ¿Qué producto quieres buscar en la página de decathlon?\")"
   ]
  },
  {
   "cell_type": "markdown",
   "metadata": {},
   "source": [
    "🌼 Utilice el texto ingresado para buscar productos en el sitio web de Decathlon y presione la tecla \"Enter\" para iniciar la búsqueda."
   ]
  },
  {
   "cell_type": "code",
   "execution_count": null,
   "metadata": {},
   "outputs": [],
   "source": [
    "driver.find_element(\"css selector\", \"#search-bar > div > form > div > input\").send_keys(eleccion_usuario, Keys.ENTER)"
   ]
  },
  {
   "cell_type": "markdown",
   "metadata": {},
   "source": [
    "🌼 Inicialice un diccionario llamado `diccionario_resultados` con tres listas vacías: \"nombre\", \"precio\" y \"puntuación\"."
   ]
  },
  {
   "cell_type": "code",
   "execution_count": null,
   "metadata": {},
   "outputs": [],
   "source": [
    "diccionario_resultados = {\"nombre\": [], \"precio\": [], \"puntuacion\": []}"
   ]
  },
  {
   "cell_type": "markdown",
   "metadata": {},
   "source": [
    "🌼. Itere sobre los primeros 5 resultados de la búsqueda y realice las siguientes acciones:\n",
    "\n",
    "    a. Haga clic en un resultado específico.\n",
    "\n",
    "    b. Recopile el nombre del producto, el precio y la puntuación del producto y almacénelos en las listas correspondientes en el diccionario `diccionario_resultados`.\n",
    "\n",
    "    c. Navegue de regreso a los resultados de búsqueda."
   ]
  },
  {
   "cell_type": "code",
   "execution_count": null,
   "metadata": {},
   "outputs": [],
   "source": [
    "for i in range(1, 10):\n",
    "   \n",
    "    # a. Hace clic en el resultado\n",
    "    driver.find_element( \"css selector\",f\"#app > main > div.list-body.svelte-duar7s > section.listing-section.svelte-duar7s > div > div:nth-child({i}) > div.product-block-top-main.vtmn-relative.vtmn-flex.vtmn-flex-col.vtmn-w-full.vtmn-items-start > div.dpb-models.vtmn-relative.vtmn-self-center.svelte-1ambt2m\",).click()\n",
    "    print(f\"Entra en el producto {i}\")\n",
    "    sleep(7)\n",
    "    \n",
    "    # b. Recopila el nombre del producto\n",
    "    nombre_articulo = driver.find_element(\"css selector\",\"#app > main > article > div.vtmn-relative.vtmn-z-\\[2\\] > section > h1\").text\n",
    "    diccionario_resultados[\"nombre\"].append(nombre_articulo)\n",
    "    print(f\"Añade al diccionario el nombre del producto {nombre_articulo}\")\n",
    "    sleep(2)\n",
    "    \n",
    "    # b. Recopila el precio del producto\n",
    "    precio_articulo = driver.find_element(\"css selector\", \"#app > main > article > div.vtmn-relative.vtmn-z-\\[2\\] > section > div.price-presentation.vtmn-flex.vtmn-flex-col.vtmn-items-start.vtmn-leading-tight.vtmn-mt-2.svelte-1wujduz > div > div > div > span\", ).text\n",
    "    diccionario_resultados[\"precio\"].append(precio_articulo)\n",
    "    print(f\"Añade al diccionario el precio del producto {i}\")\n",
    "    sleep(5)\n",
    "   \n",
    "    try:\n",
    "        puntuacion_articulo = driver.find_element(\"css selector\",\"#app > main > article > div.vtmn-relative.vtmn-z-\\[2\\] > section > div.vtmn-relative.vtmn-bg-background-primary > button > div > span.vtmn-rating_comment--primary\",).text\n",
    "        diccionario_resultados[\"puntuacion\"].append(puntuacion_articulo)\n",
    "        print(f\"Añade al diccionario la puntuación del producto {i}\")\n",
    "    \n",
    "    except:\n",
    "        diccionario_resultados[\"puntuacion\"].append(0)\n",
    "        print(f\"No encuentra la puntuación del producto {i}\")\n",
    "    \n",
    "    sleep(2)\n",
    "    \n",
    "    # c. Regresa\n",
    "    driver.back()\n",
    "    print(f\"Regresa a la pagina anterior después de entrar en el producto {i}\")\n",
    "    print(\"-------------------\")"
   ]
  },
  {
   "cell_type": "code",
   "execution_count": null,
   "metadata": {},
   "outputs": [],
   "source": [
    "diccionario_resultados"
   ]
  },
  {
   "cell_type": "markdown",
   "metadata": {},
   "source": [
    "🌼 Cierre el navegador Chrome."
   ]
  },
  {
   "cell_type": "code",
   "execution_count": null,
   "metadata": {},
   "outputs": [],
   "source": [
    "driver.close()"
   ]
  },
  {
   "cell_type": "code",
   "execution_count": null,
   "metadata": {},
   "outputs": [],
   "source": [
    "db = pd.DataFrame(diccionario_resultados)\n",
    "db"
   ]
  }
 ],
 "metadata": {
  "kernelspec": {
   "display_name": "base",
   "language": "python",
   "name": "python3"
  },
  "language_info": {
   "codemirror_mode": {
    "name": "ipython",
    "version": 3
   },
   "file_extension": ".py",
   "mimetype": "text/x-python",
   "name": "python",
   "nbconvert_exporter": "python",
   "pygments_lexer": "ipython3",
   "version": "3.11.7"
  }
 },
 "nbformat": 4,
 "nbformat_minor": 2
}
