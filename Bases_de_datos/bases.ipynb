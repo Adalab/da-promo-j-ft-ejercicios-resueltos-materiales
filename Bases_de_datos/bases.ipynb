{
 "cells": [
  {
   "cell_type": "markdown",
   "metadata": {},
   "source": [
    "🥰 Tenéis las cositas en la carpeta de imágenes 🥰"
   ]
  }
 ],
 "metadata": {
  "language_info": {
   "name": "python"
  }
 },
 "nbformat": 4,
 "nbformat_minor": 2
}
