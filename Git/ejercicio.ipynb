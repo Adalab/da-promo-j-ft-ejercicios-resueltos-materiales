{
 "cells": [
  {
   "cell_type": "markdown",
   "metadata": {},
   "source": [
    "#Hacemos código sencillito "
   ]
  },
  {
   "cell_type": "code",
   "execution_count": 11,
   "metadata": {},
   "outputs": [
    {
     "name": "stdout",
     "output_type": "stream",
     "text": [
      "🔮¡Combinaciones de hechizos!🔮\n",
      "\n",
      "⚡️ Harry lanza Expelliarmus\n",
      "⚡️ Harry lanza Lumos\n",
      "⚡️ Harry lanza Wingardium Leviosa\n",
      "✨ Hermione lanza Expelliarmus\n",
      "✨ Hermione lanza Lumos\n",
      "✨ Hermione lanza Wingardium Leviosa\n",
      "🧹 Ron lanza Expelliarmus\n",
      "🧹 Ron lanza Lumos\n",
      "🧹 Ron lanza Wingardium Leviosa\n",
      "\n",
      "🪄🪄🪄¡Hechizos combinados! 🪄🪄🪄\n"
     ]
    }
   ],
   "source": [
    "personajes = [\"⚡️ Harry\", \"✨ Hermione\", \"🧹 Ron\"]\n",
    "hechizos = [\"Expelliarmus\", \"Lumos\", \"Wingardium Leviosa\"]\n",
    "print(\"🔮¡Combinaciones de hechizos!🔮\\n\")\n",
    "\n",
    "for personaje in personajes:\n",
    "    for hechizo in hechizos:\n",
    "        print(f\"{personaje} lanza {hechizo}\")\n",
    "\n",
    "print(\"\\n🪄🪄🪄¡Hechizos combinados! 🪄🪄🪄\")"
   ]
  },
  {
   "cell_type": "markdown",
   "metadata": {},
   "source": [
    "#Cambios compi para crear el conficto"
   ]
  },
  {
   "cell_type": "code",
   "execution_count": 13,
   "metadata": {},
   "outputs": [
    {
     "name": "stdout",
     "output_type": "stream",
     "text": [
      "🧙‍♂️ ¡Bienvenidos a la clase de Defensa Contra las Artes Oscuras! 🧙‍♂️\n",
      "Hoy veremos las combinaciones de hechizos de nuestros personajes favoritos de Harry Potter.\n",
      "\n",
      "🔮¡Combinaciones de hechizos!🔮\n",
      "\n",
      "⚡️ Harry lanza Expelliarmus\n",
      "⚡️ Harry lanza Lumos\n",
      "⚡️ Harry lanza Wingardium Leviosa\n",
      "✨ Hermione lanza Expelliarmus\n",
      "✨ Hermione lanza Lumos\n",
      "✨ Hermione lanza Wingardium Leviosa\n",
      "🧹 Ron lanza Expelliarmus\n",
      "🧹 Ron lanza Lumos\n",
      "🧹 Ron lanza Wingardium Leviosa\n",
      "\n",
      "🪄🪄🪄¡Hechizos combinados! 🪄🪄🪄\n",
      "⚡️ Harry ha completado su práctica de hechizos con éxito. ¡Bien hecho!\n",
      "✨ Hermione ha completado su práctica de hechizos con éxito. ¡Bien hecho!\n",
      "🧹 Ron ha completado su práctica de hechizos con éxito. ¡Bien hecho!\n"
     ]
    }
   ],
   "source": [
    "#Hacemos los cambios para crear conflictos\n",
    "\n",
    "personajes = [\"⚡️ Harry\", \"✨ Hermione\", \"🧹 Ron\"]\n",
    "hechizos = [\"Expelliarmus\", \"Lumos\", \"Wingardium Leviosa\"]\n",
    "print(\"🧙‍♂️ ¡Bienvenidos a la clase de Defensa Contra las Artes Oscuras! 🧙‍♂️\")\n",
    "print(\"Hoy veremos las combinaciones de hechizos de nuestros personajes favoritos de Harry Potter.\\n\")\n",
    "\n",
    "print(\"🔮¡Combinaciones de hechizos!🔮\\n\")\n",
    "for personaje in personajes:\n",
    "    for hechizo in hechizos:\n",
    "        print(f\"{personaje} lanza {hechizo}\")\n",
    "\n",
    "print(\"\\n🪄🪄🪄¡Hechizos combinados! 🪄🪄🪄\")\n",
    "\n",
    "for personaje in personajes:\n",
    "    print(f\"{personaje} ha completado su práctica de hechizos con éxito. ¡Bien hecho!\")"
   ]
  },
  {
   "cell_type": "code",
   "execution_count": null,
   "metadata": {},
   "outputs": [],
   "source": [
   
   ]
  }
 ],
 "metadata": {
  "kernelspec": {
   "display_name": "base",
   "language": "python",
   "name": "python3"
  },
  "language_info": {
   "codemirror_mode": {
    "name": "ipython",
    "version": 3
   },
   "file_extension": ".py",
   "mimetype": "text/x-python",
   "name": "python",
   "nbconvert_exporter": "python",
   "pygments_lexer": "ipython3",
   "version": "3.11.4"
  }
 },
 "nbformat": 4,
 "nbformat_minor": 2
}
