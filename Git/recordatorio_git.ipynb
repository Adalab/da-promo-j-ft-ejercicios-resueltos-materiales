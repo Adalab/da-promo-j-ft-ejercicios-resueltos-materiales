{
 "cells": [
  {
   "cell_type": "markdown",
   "metadata": {},
   "source": [
    "💻🤓 COMANDOS DE GIT 🤓💻"
   ]
  },
  {
   "cell_type": "code",
   "execution_count": null,
   "metadata": {
    "vscode": {
     "languageId": "plaintext"
    }
   },
   "outputs": [],
   "source": [
    "✨ git init: Inicializa un nuevo repositorio de Git en el directorio actual.\n",
    "✨ git clone <url_del_repositorio>: Clona un repositorio remoto a tu máquina local.\n",
    "✨ git status: Muestra el estado actual del repositorio, incluyendo cambios no rastreados y cambios en el índice.\n",
    "✨ git add <archivo>: Añade el archivo especificado al área de preparación (staging area).\n",
    "✨ git add .: Añade todos los archivos y cambios nuevos al área de preparación.\n",
    "✨ git commit -m \"\": Recoge con los cambios en el área de preparación con un mensaje descriptivo.\n",
    "✨ git push: Envía los commits locales al repositorio remoto.\n",
    "✨ git pull: Obtiene y fusiona los cambios del repositorio remoto en la rama actual."
   ]
  },
  {
   "cell_type": "markdown",
   "metadata": {},
   "source": [
    "💻🤓 COMANDOS PARA TRABAJAR CON RAMAS 🤓💻"
   ]
  },
  {
   "cell_type": "code",
   "execution_count": null,
   "metadata": {
    "vscode": {
     "languageId": "plaintext"
    }
   },
   "outputs": [],
   "source": [
    "✨ git branch: Lista todas las ramas locales en el repositorio.\n",
    "✨ git branch <nombre_de_rama>: Crea una nueva rama con el nombre especificado.\n",
    "✨ git checkout <nombre_de_rama>: Cambia a la rama especificada.\n",
    "✨ git checkout -b <nombre_de_rama>: Crea una nueva rama y cambia a ella.\n",
    "✨ git merge <nombre_de_rama>: Fusiona la rama especificada en la rama actual.\n"
   ]
  },
  {
   "cell_type": "markdown",
   "metadata": {},
   "source": [
    "💻🤓 QUÉ ES UN ARCHIVO .GITIGNORE 🤓💻"
   ]
  },
  {
   "cell_type": "code",
   "execution_count": null,
   "metadata": {
    "vscode": {
     "languageId": "plaintext"
    }
   },
   "outputs": [],
   "source": [
    "✨ ¿Qué es un archivo .gitignore?\n",
    "Un archivo .gitignore es un archivo de texto que indica a Git qué archivos o directorios deben ser ignorados en un repositorio. \n",
    "Esto significa que los archivos y directorios especificados en .gitignore no serán rastreados, añadidos o incluidos en los commits.\n",
    "\n",
    "✨ ¿Qué puedes meter en un .gitignore?\n",
    "Es útil para evitar que archivos no deseados, como archivos de configuración personal, compilados, dependencias descargadas o cualquier otro archivo generado automáticamente, sean rastreados y añadidos al repositorio.\n",
    "Esto ayuda a mantener el repositorio limpio y centrado en los archivos esenciales del proyecto."
   ]
  },
  {
   "cell_type": "code",
   "execution_count": null,
   "metadata": {
    "vscode": {
     "languageId": "plaintext"
    }
   },
   "outputs": [],
   "source": [
    "✨ ¿Qué puedes meter en un .gitignore?\n",
    "Puedes listar archivos, directorios y patrones que deseas que Git ignore. Algunos ejemplos comunes incluyen:\n",
    "\n",
    "Archivos de configuración del sistema operativo (por ejemplo, Thumbs.db, .DS_Store).\n",
    "Archivos y directorios de compilación (por ejemplo, build/, bin/).\n",
    "Archivos de dependencias y paquetes (por ejemplo, node_modules/, vendor/).\n",
    "Archivos de configuración personal (por ejemplo,  ejercicio.ipynb, *.env, config/*.json).\n",
    "Archivos generados automáticamente por el IDE (por ejemplo, .vscode/, .idea/). 👌🏻 "
   ]
  },
  {
   "cell_type": "markdown",
   "metadata": {},
   "source": [
    "💻🤓 Cómo usar el archivo .gitignore 🤓💻"
   ]
  },
  {
   "cell_type": "markdown",
   "metadata": {},
   "source": [
    "✨ git add .gitignore\n",
    "✨ git commit -m \"Añadir archivo .gitignore\"\n"
   ]
  },
  {
   "cell_type": "code",
   "execution_count": null,
   "metadata": {
    "vscode": {
     "languageId": "plaintext"
    }
   },
   "outputs": [],
   "source": [
    "💻🤓 Ejemplo de Flujo de Trabajo 💻🤓"
   ]
  },
  {
   "cell_type": "markdown",
   "metadata": {},
   "source": [
    "\n",
    "Inicio del proyecto:\n",
    "\n",
    "✨ Se crea el repositorio con la rama main.\n",
    "Se crea la rama develop a partir de main.\n",
    "Desarrollo de nuevas características:\n",
    "\n",
    "✨ Se crean ramas de características (feature/nueva-caracteristica) a partir de develop.\n",
    "Una vez completadas, las ramas de características se fusionan de vuelta en develop.\n",
    "Corrección de errores:\n",
    "\n",
    "✨ Se crean ramas de corrección de errores (bugfix/correccion-error) a partir de develop.\n",
    "Una vez corregidos los errores, las ramas bugfix se fusionan en develop.\n",
    "Preparación para el lanzamiento:\n",
    "\n",
    "✨ Se crea una rama de liberación (release/v1.0.0) a partir de develop.\n",
    "Después de las pruebas finales y correcciones menores, la rama release se fusiona en main y en develop.\n",
    "Corrección rápida:\n",
    "\n",
    "✨ Si se encuentra un error crítico en producción, se crea una rama de soporte (hotfix/correccion-critica) a partir de main.\n",
    "Una vez corregido, hotfix se fusiona en main y en develop.\n",
    "\n",
    "✨ Ventajas de este Enfoque ✨\n",
    "Organización: Mantiene el código organizado y facilita la colaboración.\n",
    "Estabilidad: Asegura que main siempre esté en un estado estable y desplegable.\n",
    "Flexibilidad: Permite a los desarrolladores trabajar en paralelo sin interferencias.\n",
    "Rastreo de Cambios: Facilita el seguimiento de los cambios y las correcciones de errores."
   ]
  },
  {
   "cell_type": "code",
   "execution_count": null,
   "metadata": {
    "vscode": {
     "languageId": "plaintext"
    }
   },
   "outputs": [],
   "source": [
    "✨ Ejemplo Visual de Flujo de Trabajo ✨\n",
    "\n",
    "gitGraph\n",
    "   commit id: \"Inicio de main\"\n",
    "   branch develop\n",
    "   checkout develop\n",
    "   commit id: \"Inicio de develop\"\n",
    "   branch feature1\n",
    "   checkout feature1\n",
    "   commit id: \"Feature 1\"\n",
    "   checkout develop\n",
    "   merge feature1\n",
    "   branch feature2\n",
    "   checkout feature2\n",
    "   commit id: \"Feature 2\"\n",
    "   checkout develop\n",
    "   merge feature2\n",
    "   branch bugfix1\n",
    "   checkout bugfix1\n",
    "   commit id: \"Bugfix 1\"\n",
    "   checkout develop\n",
    "   merge bugfix1\n",
    "   branch release1\n",
    "   checkout release1\n",
    "   commit id: \"Release 1\"\n",
    "   checkout main\n",
    "   merge release1\n",
    "   checkout develop\n",
    "   merge release1\n",
    "   branch hotfix1\n",
    "   checkout hotfix1\n",
    "   commit id: \"Hotfix 1\"\n",
    "   checkout main\n",
    "   merge hotfix1\n",
    "   checkout develop\n",
    "   merge hotfix1\n"
   ]
  }
 ],
 "metadata": {
  "language_info": {
   "name": "python"
  }
 },
 "nbformat": 4,
 "nbformat_minor": 2
}
