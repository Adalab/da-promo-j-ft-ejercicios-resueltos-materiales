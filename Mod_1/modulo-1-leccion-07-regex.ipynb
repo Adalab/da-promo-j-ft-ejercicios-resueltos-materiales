{
 "cells": [
  {
   "cell_type": "markdown",
   "metadata": {},
   "source": [
    "🌸🌸🌸 Ejercicio 1 🌸🌸🌸\n",
    "\n",
    "-  Validar un número de teléfono.\n",
    "- Descripción: Verificar si una cadena representa un número de teléfono válido en el formato (XXX) XXX-XXXX.\n",
    "- Probad para cada uno de los teléfonos que tenemos en la siguiente lista: telefonos = [\"(123) 456-7890\", \"178 1890-733\", \"(555) 238-1987\", \"(123) 4"
   ]
  },
  {
   "cell_type": "code",
   "execution_count": 1,
   "metadata": {},
   "outputs": [
    {
     "name": "stdout",
     "output_type": "stream",
     "text": [
      "(123) 456-7890 es un número de teléfono válido.\n",
      "178 1890-733 no es un número de teléfono válido.\n",
      "(555) 238-1987 es un número de teléfono válido.\n",
      "(123) 4560-7890 no es un número de teléfono válido.\n",
      "(ABC) 098-1111 no es un número de teléfono válido.\n"
     ]
    }
   ],
   "source": [
    "import re\n",
    "\n",
    "mi_lista_de_telefonos = [\n",
    "    \"(123) 456-7890\",\n",
    "    \"178 1890-733\",\n",
    "    \"(555) 238-1987\",\n",
    "    \"(123) 4560-7890\",\n",
    "    \"(ABC) 098-1111\"\n",
    "]\n",
    "\n",
    "# Patrón regex para el formato (XXX) XXX-XXXX\n",
    "patron_telefono = r\"^\\(\\d{3}\\) \\d{3}-\\d{4}$\"\n",
    "\n",
    "for numero in mi_lista_de_telefonos:\n",
    "    if re.fullmatch(patron_telefono,numero):\n",
    "        print(f\"{numero} es un número de teléfono válido.\")\n",
    "    else:\n",
    "        print(f\"{numero} no es un número de teléfono válido.\")"
   ]
  },
  {
   "cell_type": "markdown",
   "metadata": {},
   "source": [
    "🌟 Explicación del patrón:\n",
    "\n",
    "^ y $: Aseguran que la cadena completa coincida con el patrón.\n",
    "\n",
    "\\( y \\): Coinciden con los paréntesis literales.\n",
    "\n",
    "\\d{3}: Coincide con exactamente tres dígitos.\n",
    "\n",
    "(espacio): Coincide con un espacio literal.\n",
    "\n",
    "\\d{3}: Coincide con exactamente tres dígitos.\n",
    "\n",
    "-: Coincide con un guión literal.\n",
    "\n",
    "\\d{4}: Coincide con exactamente cuatro dígitos."
   ]
  },
  {
   "cell_type": "markdown",
   "metadata": {},
   "source": [
    "🌸🌸🌸 Ejercicio 2 🌸🌸🌸\n",
    "\n",
    "- Buscar todas las direcciones de correo electrónico en un texto.\n",
    "- Descripción: Encontrar todas las direcciones de correo electrónico presentes en una cadena de texto.\n",
    "- Probad con el siguiente string: texto = \"Mi correo es user@example.com. Contacta conmigo en john.doe@em"
   ]
  },
  {
   "cell_type": "code",
   "execution_count": null,
   "metadata": {},
   "outputs": [],
   "source": [
    "texto = \"Mi correo es user@example.com. Contacta conmigo en john.doe@email.com\"\n",
    "\n",
    "# Patrón regex para direcciones de correo electrónico\n",
    "patron_email = r\"\\b[A-Za-z0-9._%+-]+@[A-Za-z0-9.-]+\\.[A-Z|a-z]{2,}\\b\"\n",
    "\n",
    "correos = re.findall(patron_email, texto)\n",
    "print(\"Direcciones de correo encontradas:\", correos)"
   ]
  },
  {
   "cell_type": "markdown",
   "metadata": {},
   "source": [
    "🌟 Explicación del patrón:\n",
    "\n",
    "^ y $: Aseguran que la cadena completa coincida con el patrón.\n",
    "\n",
    "\\( y \\): Coinciden con los paréntesis literales.\n",
    "\n",
    "\\d{3}: Coincide con exactamente tres dígitos.\n",
    "\n",
    "(espacio): Coincide con un espacio literal.\n",
    "\n",
    "\\d{3}: Coincide con exactamente tres dígitos.\n",
    "\n",
    "-: Coincide con un guión literal.\n",
    "\n",
    "\\d{4}: Coincide con exactamente cuatro dígitos."
   ]
  },
  {
   "cell_type": "markdown",
   "metadata": {},
   "source": [
    "🌸🌸🌸 Ejercicio 3 🌸🌸🌸\n",
    "\n",
    "- Validar un código postal.\n",
    "- Descripción: Verificar si una cadena representa un código postal válido de 5 dígitos.\n",
    "- Probad para cada uno de los códigos postales que tenemos en la siguiente lista: codigos_postales = [\"12345\", \"190037\", \"78409\", \"986449\", \"19305\"]"
   ]
  },
  {
   "cell_type": "code",
   "execution_count": null,
   "metadata": {},
   "outputs": [],
   "source": [
    "codigos_postales = [\"12345\", \"190037\", \"78409\", \"986449\", \"19305\"]\n",
    "\n",
    "# Patrón regex para códigos postales de 5 dígitos\n",
    "patron_codigo_postal = r\"^\\d{5}$\"\n",
    "\n",
    "for codigo in codigos_postales:\n",
    "    if re.match(patron_codigo_postal, codigo):\n",
    "        print(f\"{codigo} es un código postal válido.\")\n",
    "    else:\n",
    "        print(f\"{codigo} no es un código postal válido.\")"
   ]
  },
  {
   "cell_type": "markdown",
   "metadata": {},
   "source": [
    "🌟 Explicación del patrón:\n",
    "\n",
    "^\\d{5}$: Coincide con exactamente cinco dígitos."
   ]
  },
  {
   "cell_type": "markdown",
   "metadata": {},
   "source": [
    "🌸🌸🌸 Ejercicio 4 🌸🌸🌸\n",
    "\n",
    "- Encontrar todas las palabras que comienzan con una vocal en un texto.\n",
    "- Descripción: Encontrar todas las palabras en un texto que comienzan con una vocal (a, e, i, o, u).\n",
    "- Probad con el siguiente string: texto = \"El perro está ladrando. Ana tiene una manzana. La casa es grande.\""
   ]
  },
  {
   "cell_type": "code",
   "execution_count": null,
   "metadata": {},
   "outputs": [],
   "source": [
    "texto = \"El perro está ladrando. Ana tiene una manzana. La casa es grande.\"\n",
    "\n",
    "# Patrón regex para palabras que comienzan con una vocal\n",
    "patron_vocal = r\"\\b[aeiouAEIOU]\\w*\"\n",
    "\n",
    "palabras = re.findall(patron_vocal, texto)\n",
    "print(\"Palabras que comienzan con una vocal:\", palabras)"
   ]
  },
  {
   "cell_type": "markdown",
   "metadata": {},
   "source": [
    "🌟 Explicación del patrón:\n",
    "\n",
    "\n",
    "\\b: Límite de palabra.\n",
    "\n",
    "[aeiouAEIOU]: Coincide con cualquier vocal mayúscula o minúscula.\n",
    "\n",
    "\\w*: Coincide con cero o más caracteres alfanuméricos"
   ]
  },
  {
   "cell_type": "markdown",
   "metadata": {},
   "source": [
    "🌸🌸🌸 Ejercicio 5 🌸🌸🌸\n",
    "\n",
    "- Extraer todos los hashtags de un texto.\n",
    "- Descripción: Extraer todos los hashtags (#) presentes en una cadena de texto.\n",
    "- Probad con el siguiente string: texto = texto = \"Me encanta el #deporte. #FelizViernes a todos. Estoy en la conferencia #Tech2022.\""
   ]
  },
  {
   "cell_type": "code",
   "execution_count": null,
   "metadata": {},
   "outputs": [],
   "source": [
    "texto = ( \"Me encanta el #deporte. #FelizViernes a todos. Estoy en la conferencia #Tech2022.\")\n",
    "\n",
    "# Patrón regex para hashtags\n",
    "patron_hashtag = r\"#\\w+\"\n",
    "\n",
    "hashtags = re.findall(patron_hashtag, texto)\n",
    "print(\"Hashtags encontrados:\", hashtags)"
   ]
  },
  {
   "cell_type": "markdown",
   "metadata": {},
   "source": [
    "🌟 Explicación del patrón:\n",
    "\n",
    " #: Coincide con el símbolo de almohadilla.\n",
    "\n",
    "\\w+: Coincide con uno o más caracteres alfanuméricos."
   ]
  },
  {
   "cell_type": "markdown",
   "metadata": {},
   "source": [
    "🌸🌸🌸 Ejercicio 6 🌸🌸🌸\n",
    "\n",
    "- Buscar todos los números decimales en una cadena de texto.\n",
    "- Descripción: Encontrar todos los números decimales presentes en una cadena de texto.\n",
    "- Probad con el siguiente string: texto = \"El precio es $19.99. La temperatura es 25.5°C. El índice de inflación es del 2.5%.\"     "
   ]
  },
  {
   "cell_type": "code",
   "execution_count": null,
   "metadata": {},
   "outputs": [],
   "source": [
    "texto = (\"El precio es $19.99. La temperatura es 25.5°C. El índice de inflación es del 2.5%.\")\n",
    "\n",
    "# Patrón regex para números decimales\n",
    "patron_decimal = r\"\\d+\\.\\d+\"\n",
    "\n",
    "numeros_decimales = re.findall(patron_decimal, texto)\n",
    "print(\"Números decimales encontrados:\", numeros_decimales)"
   ]
  },
  {
   "cell_type": "markdown",
   "metadata": {},
   "source": [
    "🌟 Explicación del patrón:\n",
    "\n",
    "\\d+: Coincide con uno o más dígitos.\n",
    "\n",
    "\\.: Coincide con un punto literal.\n",
    "\n",
    "\\d+: Coincide con uno o más dígitos después del punto.\n",
    "\n"
   ]
  },
  {
   "cell_type": "markdown",
   "metadata": {},
   "source": [
    "🌸🌸🌸 Ejercicio 7 🌸🌸🌸\n",
    "\n",
    "- Validar un nombre de usuario.\n",
    "- Descripción: Verificar si una cadena representa un nombre de usuario válido, que contiene solo letras minúsculas, números y guiones bajos (_).\n",
    "- Probad con la siguiente lista de usuarios: lista_usuarios = [\"juan_doe123\", \"lola_12\", \"Aurora_23\", \"12marta_lopez\"]\n"
   ]
  },
  {
   "cell_type": "code",
   "execution_count": null,
   "metadata": {},
   "outputs": [],
   "source": [
    "lista_usuarios = [\"juan_doe123\", \"lola_12\", \"Aurora_23\", \"12marta_lopez\"]\n",
    "\n",
    "# Patrón regex para nombres de usuario válidos\n",
    "patron_usuario = r\"^[a-z0-9_]+$\"\n",
    "\n",
    "for usuario in lista_usuarios:\n",
    "    if re.match(patron_usuario, usuario):\n",
    "        print(f\"{usuario} es un nombre de usuario válido.\")\n",
    "    else:\n",
    "        print(f\"{usuario} no es un nombre de usuario válido.\")"
   ]
  },
  {
   "cell_type": "markdown",
   "metadata": {},
   "source": [
    "🌟 Explicación del patrón:\n",
    "\n",
    "^[a-z0-9_]+$: Coincide con cualquier combinación de letras minúsculas, números y guiones bajos, desde el principio hasta el final de la cadena."
   ]
  },
  {
   "cell_type": "markdown",
   "metadata": {},
   "source": [
    "🌸🌸🌸 Ejercicio 8 🌸🌸🌸\n",
    "\n",
    "- Encontrar todas las fechas en formato \"dd/mm/aaaa\" en un texto.\n",
    "- Descripción: Encontrar todas las fechas válidas en formato \"dd/mm/aaaa\" presentes en una cadena de texto.\n",
    "- Probad con el siguiente string: texto = \"La fecha límite es el 31/12/2022. Hoy es 01/01/2023. Cumpleaños: 15/05/1990.\""
   ]
  },
  {
   "cell_type": "code",
   "execution_count": null,
   "metadata": {},
   "outputs": [],
   "source": [
    "texto = \"La fecha límite es el 31/12/2022. Hoy es 01/01/2023. Cumpleaños: 15/05/1990.\"\n",
    "\n",
    "# Patrón regex para fechas en formato \"dd/mm/aaaa\"\n",
    "patron_fecha = r\"\\b\\d{2}/\\d{2}/\\d{4}\\b\"\n",
    "\n",
    "fechas = re.findall(patron_fecha, texto)\n",
    "print(\"Fechas encontradas:\", fechas)"
   ]
  },
  {
   "cell_type": "markdown",
   "metadata": {},
   "source": [
    "🌟 Explicación del patrón:\n",
    "\n",
    "\\b: Límite de palabra.\n",
    "\n",
    "\\d{2}: Coincide con exactamente dos dígitos (día y mes).\n",
    "\n",
    "/: Coincide con el carácter de barra.\n",
    "\n",
    "\\d{4}: Coincide con exactamente cuatro dígitos (año)."
   ]
  },
  {
   "cell_type": "markdown",
   "metadata": {},
   "source": [
    "🌸🌸🌸 Ejercicio 9 🌸🌸🌸\n",
    "\n",
    "- Remover caracteres especiales.\n",
    "- Descripción: Dada una cadena de texto, remover cualquier carácter especial, como signos de puntuación y símbolos.\n",
    "- Probad con el siguiente string: texto = '¡Hola, cómo estás? ¿Todo bien?'"
   ]
  },
  {
   "cell_type": "code",
   "execution_count": null,
   "metadata": {},
   "outputs": [],
   "source": [
    "texto = \"¡Hola, cómo estás? ¿Todo bien?\"\n",
    "\n",
    "# Patrón regex para caracteres especiales\n",
    "patron_caracteres_especiales = r\"[^\\w\\s]\"\n",
    "\n",
    "texto_limpio = re.sub(patron_caracteres_especiales, \"\", texto)\n",
    "print(\"Texto sin caracteres especiales:\", texto_limpio)"
   ]
  },
  {
   "cell_type": "markdown",
   "metadata": {},
   "source": [
    "🌟 Explicación del patrón:\n",
    "\n",
    "[^\\w\\s]: Coincide con cualquier carácter que no sea alfanumérico ni espacio. El símbolo ^ dentro de los corchetes indica una negación."
   ]
  },
  {
   "cell_type": "markdown",
   "metadata": {},
   "source": [
    "🌸🌸🌸 Ejercicio 10 🌸🌸🌸\n",
    "\n",
    "- BONUS: Enmascarar información personal.\n",
    "- Descripción: Dada una cadena de texto que contiene información personal, como nombres y direcciones, enmascarar esta información reemplazándola con asteriscos (*).\n",
    "- Probad con este string: texto = 'El nombre del cliente es John Doe y su dirección es 123 Main Street.'"
   ]
  },
  {
   "cell_type": "code",
   "execution_count": null,
   "metadata": {},
   "outputs": [],
   "source": [
    "texto = \"El nombre del cliente es John Doe y su dirección es 123 Main St.\"\n",
    "\n",
    "# Patrón regex para nombres y direcciones\n",
    "patron_personal = r\"(\\b[A-Z][a-z]* [A-Z][a-z]*\\b|\\d{3} \\w+ \\w+\\.)\"\n",
    "\n",
    "texto_enmascarado = re.sub(patron_personal, \"*****\", texto)\n",
    "print(\"Texto con información enmascarada:\", texto_enmascarado)"
   ]
  },
  {
   "cell_type": "markdown",
   "metadata": {},
   "source": [
    "🌟  Explicación del patrón:\n",
    "\n",
    "(\\b[A-Z][a-z]* [A-Z][a-z]*\\b|\\d{3} \\w+ \\w+\\.):\n",
    "\n",
    "\\b[A-Z][a-z]* [A-Z][a-z]*\\b: Coincide con nombres en formato \"Nombre Apellido\".\n",
    "\n",
    "\\d{3} \\w+ \\w+\\.: Coincide con direcciones en formato \"123 Main St.\"."
   ]
  }
 ],
 "metadata": {
  "kernelspec": {
   "display_name": "base",
   "language": "python",
   "name": "python3"
  },
  "language_info": {
   "codemirror_mode": {
    "name": "ipython",
    "version": 3
   },
   "file_extension": ".py",
   "mimetype": "text/x-python",
   "name": "python",
   "nbconvert_exporter": "python",
   "pygments_lexer": "ipython3",
   "version": "3.11.7"
  }
 },
 "nbformat": 4,
 "nbformat_minor": 2
}
