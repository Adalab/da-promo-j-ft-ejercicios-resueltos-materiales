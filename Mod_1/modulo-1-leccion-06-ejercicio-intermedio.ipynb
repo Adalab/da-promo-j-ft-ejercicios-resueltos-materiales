{
 "cells": [
  {
   "cell_type": "markdown",
   "metadata": {},
   "source": [
    "Parte 1: Strings"
   ]
  },
  {
   "cell_type": "code",
   "execution_count": null,
   "metadata": {},
   "outputs": [],
   "source": [
    "# ejercicio 1\n",
    "cadena = \"Python es un lenguaje de programación muy popular\"\n",
    "letra = \"p\"\n",
    "contador = cadena.lower().count(letra.lower())\n",
    "print(f'La letra \"{letra}\" aparece {contador} veces en la cadena.')"
   ]
  },
  {
   "cell_type": "code",
   "execution_count": null,
   "metadata": {},
   "outputs": [],
   "source": [
    "# ejercicio 2\n",
    "cadena = \"Python es genial. Python es fácil de aprender.\"\n",
    "palabra_reemplazar = input(\"¿Qué palabra quieres reemplazar?\")\n",
    "palabra_nueva = input(\"Por que cadena quieres reemplazarla?\")\n",
    "nueva_cadena = cadena.replace(palabra_reemplazar, palabra_nueva)\n",
    "print(nueva_cadena)"
   ]
  },
  {
   "cell_type": "code",
   "execution_count": null,
   "metadata": {},
   "outputs": [],
   "source": [
    "# ejercicio 3\n",
    "oracion = \"Esto es una oración de ejemplo\"\n",
    "lista_palabras = oracion.split()\n",
    "nueva_oracion = \" \".join(lista_palabras)\n",
    "print(nueva_oracion)"
   ]
  },
  {
   "cell_type": "code",
   "execution_count": null,
   "metadata": {},
   "outputs": [],
   "source": [
    "# ejercicio 4\n",
    "cadena = \"Esta es una cadena con cinco palabras\"\n",
    "palabras = cadena.split()\n",
    "cantidad_palabras = len(palabras)\n",
    "print(f'La cadena tiene {cantidad_palabras} palabras.')"
   ]
  },
  {
   "cell_type": "code",
   "execution_count": null,
   "metadata": {},
   "outputs": [],
   "source": [
    "# Ejercicio 5\n",
    "texto = input(\"Dime la frase que quieras dar la vuelta\")\n",
    "texto = texto.split()\n",
    "resultado = texto[::-1]\n",
    "print(\" \".join(resultado))"
   ]
  },
  {
   "cell_type": "code",
   "execution_count": null,
   "metadata": {},
   "outputs": [],
   "source": [
    "# Ejercicio 6\n",
    "cadena = \"Python es un lenguaje de programación\"\n",
    "subcadena = \"lenguaje\"\n",
    "indice = cadena.find(subcadena)\n",
    "if indice != -1:\n",
    "    print(f'La subcadena \"{subcadena}\" se encuentra en la posición {indice}.')\n",
    "else:\n",
    "    print(f'La subcadena \"{subcadena}\" no se encuentra en la cadena.')"
   ]
  },
  {
   "cell_type": "markdown",
   "metadata": {},
   "source": [
    "Parte 2: Listas"
   ]
  },
  {
   "cell_type": "code",
   "execution_count": null,
   "metadata": {},
   "outputs": [],
   "source": [
    "\n",
    "frutas = ['manzana', 'pera', 'banana', 'uva', 'kiwi']"
   ]
  },
  {
   "cell_type": "code",
   "execution_count": null,
   "metadata": {},
   "outputs": [],
   "source": [
    "# Reemplaza el segundo elemento con 'durazno'.\n",
    "frutas[1] = \"durazno\"\n",
    "\n",
    "# Agrega 'naranja' al final de la lista.\n",
    "frutas.append(\"naranja\")\n",
    "\n",
    "# Extrae y muestra por pantalla el tercer elemento de la lista.\n",
    "print(frutas[2])"
   ]
  },
  {
   "cell_type": "code",
   "execution_count": null,
   "metadata": {},
   "outputs": [],
   "source": [
    "numeros = [10, 25, 15, 30, 20]"
   ]
  },
  {
   "cell_type": "code",
   "execution_count": null,
   "metadata": {},
   "outputs": [],
   "source": [
    "# Agrega el valor 35 al incio de la lista `numeros`.\n",
    "numeros.append(35)\n",
    "print(numeros)"
   ]
  },
  {
   "cell_type": "code",
   "execution_count": null,
   "metadata": {},
   "outputs": [],
   "source": [
    "# Ordena la lista `numeros` en orden ascendente\n",
    "numeros.sort()\n",
    "print(numeros)"
   ]
  },
  {
   "cell_type": "code",
   "execution_count": null,
   "metadata": {},
   "outputs": [],
   "source": [
    "numeros2 = [45, 22, 19, 38, 29]"
   ]
  },
  {
   "cell_type": "code",
   "execution_count": null,
   "metadata": {},
   "outputs": [],
   "source": [
    "# Crea una nueva lista llamada `numeros3` donde tengamos la unión de los todos los elementos de las dos listas\n",
    "numeros.extend(numeros2)\n",
    "numeros3 = numeros.copy()\n",
    "print(numeros3)"
   ]
  },
  {
   "cell_type": "code",
   "execution_count": null,
   "metadata": {},
   "outputs": [],
   "source": [
    "# Elimina el último elemento de la lista `numeros3`.\n",
    "numeros3.pop()\n",
    "print(numeros3)"
   ]
  },
  {
   "cell_type": "code",
   "execution_count": null,
   "metadata": {},
   "outputs": [],
   "source": [
    "# Elimina el número 30 de la lista `numeros3`.\n",
    "numeros3.remove(30)\n",
    "print(numeros3)"
   ]
  },
  {
   "cell_type": "markdown",
   "metadata": {},
   "source": [
    "Parte 3: Tuplas"
   ]
  },
  {
   "cell_type": "code",
   "execution_count": null,
   "metadata": {},
   "outputs": [],
   "source": [
    "colores = ('rojo', 'verde', 'azul', 'amarillo', 'morado')"
   ]
  },
  {
   "cell_type": "code",
   "execution_count": null,
   "metadata": {},
   "outputs": [],
   "source": [
    "# Encuentra el índice de 'verde' en la tupla `colores`\n",
    "colores.index(\"verde\")"
   ]
  },
  {
   "cell_type": "code",
   "execution_count": null,
   "metadata": {},
   "outputs": [],
   "source": [
    "# ¿Cuántas veces aparece 'azul' en la tupla `colores`?.\n",
    "colores.count(\"azul\")"
   ]
  },
  {
   "cell_type": "code",
   "execution_count": null,
   "metadata": {},
   "outputs": [],
   "source": [
    "# Añade el color \"morado\" a la tupla `colores`. ¿Qué ha pasado? ¿Por qué?\n",
    "colores.append(\"morado\")"
   ]
  },
  {
   "cell_type": "code",
   "execution_count": null,
   "metadata": {},
   "outputs": [],
   "source": [
    "lista_colores = list(colores)\n",
    "lista_colores.append(\"morado\")\n",
    "tuple(lista_colores)"
   ]
  },
  {
   "cell_type": "markdown",
   "metadata": {},
   "source": [
    "Parte 4: Diccionarios"
   ]
  },
  {
   "cell_type": "code",
   "execution_count": null,
   "metadata": {},
   "outputs": [],
   "source": [
    "\n",
    "frutas = {'manzana': 2, \n",
    "          'banana': 3, \n",
    "          'uva': 5,\n",
    "          'pera': 4}"
   ]
  },
  {
   "cell_type": "code",
   "execution_count": null,
   "metadata": {},
   "outputs": [],
   "source": [
    "# Saca una **lista** de todas las frutas en el diccionario\n",
    "claves = list(frutas.keys())\n",
    "claves"
   ]
  },
  {
   "cell_type": "code",
   "execution_count": null,
   "metadata": {},
   "outputs": [],
   "source": [
    "#  Saca una **lista** de todas las cantidades en el diccionario.\n",
    "valores = list(frutas.values())"
   ]
  },
  {
   "cell_type": "code",
   "execution_count": null,
   "metadata": {},
   "outputs": [],
   "source": [
    "# ¿Qué cantidad de 'manzana' tenemos?. Si la clave'manzana' no está presente, devuelve un mensaje diciendo \"No existe esa clave\".\n",
    "frutas.get(\"manzana\")"
   ]
  },
  {
   "cell_type": "code",
   "execution_count": null,
   "metadata": {},
   "outputs": [],
   "source": [
    "# Agrega un nuevo par de clave-valor al diccionario `frutas`: 'kiwi' con una cantidad de 6.\n",
    "\n",
    "# FORMA 1\n",
    "frutas[\"kiwi\"] = 2\n",
    "\n",
    "# FORMA 2\n",
    "frutas.update({\"kiwi\": 2})\n",
    "\n",
    "frutas"
   ]
  },
  {
   "cell_type": "code",
   "execution_count": null,
   "metadata": {},
   "outputs": [],
   "source": [
    "# Cambia la cantidad de 'uva' a 8.\n",
    "\n",
    "# FORMA 1\n",
    "frutas[\"uva\"] = 8\n",
    "\n",
    "# FROMA 2\n",
    "frutas.update({\"uva\": 8})\n",
    "\n",
    "frutas\n"
   ]
  },
  {
   "cell_type": "code",
   "execution_count": null,
   "metadata": {},
   "outputs": [],
   "source": [
    "{'manzana': 2, 'banana': 3, 'uva': 8, 'pera': 4, 'kiwi': 2}\n",
    "frutas_nuevas = {\"sandia\": 7, \"mango\": 4}\n",
    "frutas_nuevas\n"
   ]
  },
  {
   "cell_type": "code",
   "execution_count": null,
   "metadata": {},
   "outputs": [],
   "source": [
    "# Combinar los dos diccionarios `frutas_nuevas` y `frutas` en uno solo llamado `frutas_total`.\n",
    "\n",
    "# FROMA 1\n",
    "frutas.update(frutas_nuevas)\n",
    "frutas_total = frutas.copy()\n",
    "frutas_total"
   ]
  },
  {
   "cell_type": "code",
   "execution_count": null,
   "metadata": {},
   "outputs": [],
   "source": [
    "# FROMA 2\n",
    "diccionario_combinado = {**frutas, **frutas_nuevas}\n",
    "diccionario_combinado"
   ]
  },
  {
   "cell_type": "code",
   "execution_count": null,
   "metadata": {},
   "outputs": [],
   "source": [
    "#Elimina el último par de clave-valor del diccionario `fruta_total`.\n",
    "frutas_total.popitem()\n",
    "frutas_total"
   ]
  },
  {
   "cell_type": "code",
   "execution_count": null,
   "metadata": {},
   "outputs": [],
   "source": [
    "# Elimina el par de clave-valor correspondiente a la clave 'uva' del diccionario.\n",
    "frutas_total.pop(\"uva\")\n",
    "frutas_total"
   ]
  },
  {
   "cell_type": "code",
   "execution_count": null,
   "metadata": {},
   "outputs": [],
   "source": [
    "#  Agregar la fruta 'manzana' con una cantidad de 10 al diccionario. Si ya existe, no se realizarán cambios en los valores que teníamos.\n",
    "\n",
    "frutas_total.setdefault(\"manzana\", 10)\n",
    "frutas_total"
   ]
  },
  {
   "cell_type": "code",
   "execution_count": null,
   "metadata": {},
   "outputs": [],
   "source": [
    "cantidades = list(frutas_total.values())\n",
    "cantidades"
   ]
  },
  {
   "cell_type": "code",
   "execution_count": null,
   "metadata": {},
   "outputs": [],
   "source": [
    "# suma de las cantidades\n",
    "\n",
    "sum(cantidades)"
   ]
  },
  {
   "cell_type": "code",
   "execution_count": null,
   "metadata": {},
   "outputs": [],
   "source": [
    "18\n",
    "# minimo de cantidades\n",
    "print(min(cantidades))\n",
    "# máximo de cantidades\n",
    "print(max(cantidades))"
   ]
  },
  {
   "cell_type": "markdown",
   "metadata": {},
   "source": [
    "Parte 5: Métodos de Sets"
   ]
  },
  {
   "cell_type": "code",
   "execution_count": null,
   "metadata": {},
   "outputs": [],
   "source": [
    "conjunto1 = set(range(1,6))\n",
    "conjunto1"
   ]
  },
  {
   "cell_type": "code",
   "execution_count": null,
   "metadata": {},
   "outputs": [],
   "source": [
    "conjunto2 = set(range(4,8))\n",
    "conjunto2"
   ]
  },
  {
   "cell_type": "code",
   "execution_count": null,
   "metadata": {},
   "outputs": [],
   "source": [
    "# Obtén la unión de `conjunto1` y `conjunto2`.\n",
    "union_sets = conjunto1.union(conjunto2)\n",
    "union_sets"
   ]
  },
  {
   "cell_type": "code",
   "execution_count": null,
   "metadata": {},
   "outputs": [],
   "source": [
    "# Obtén la intersección de `conjunto1` y `conjunto2`.\n",
    "interseccion = conjunto1.intersection(conjunto2)\n",
    "interseccion"
   ]
  },
  {
   "cell_type": "code",
   "execution_count": null,
   "metadata": {},
   "outputs": [],
   "source": [
    "# Obtén los elementos que están en `conjunto1` pero no en `conjunto2`.\n",
    "diferencia = conjunto1.difference(conjunto2)\n",
    "diferencia"
   ]
  },
  {
   "cell_type": "markdown",
   "metadata": {},
   "source": [
    "\n",
    "Parte 6: Sentencias de Control"
   ]
  },
  {
   "cell_type": "markdown",
   "metadata": {},
   "source": [
    "Ejercicio 1: Evaluación de Edades:\n",
    "\n",
    "Escribe un programa que solicite al usuario ingresar su edad.\n",
    "\n",
    "Si la edad es menor de 18, muestra \"Eres menor de edad\".\n",
    "\n",
    "Si la edad está entre 18 y 65 (incluyendo ambos extremos), muestra \"Eres adulto\".\n",
    "\n",
    "Si la edad es mayor o igual a 65, muestra \"Eres un adulto mayor\"."
   ]
  },
  {
   "cell_type": "code",
   "execution_count": null,
   "metadata": {},
   "outputs": [],
   "source": [
    "edad = int(input(\"¿Que edad tienes?\"))\n",
    "print(edad)\n",
    "\n",
    "if edad < 18:\n",
    "    print(\"Eres menor de edad\")\n",
    "elif edad >= 18 and edad <= 65:\n",
    "    print(\"Eres adulto\")\n",
    "else:\n",
    "    print(\"Eres un adulto mayor\")"
   ]
  },
  {
   "cell_type": "markdown",
   "metadata": {},
   "source": [
    "Eres adulto\n",
    "Ejercicio 2: Determinación de Día de la Semana\n",
    "\n",
    "Solicita al usuario que ingrese un número del 1 al 7.\n",
    "\n",
    "Utilizando una serie de if-elif-else, muestra el día de la semana correspondiente al número ingresado. Por ejemplo, si ingresa 1, muestra \"Lunes\"."
   ]
  },
  {
   "cell_type": "code",
   "execution_count": null,
   "metadata": {},
   "outputs": [],
   "source": [
    "dia_semana = int(input(\"Ingresa un número del 1 al 7\"))\n",
    "\n",
    "if dia_semana == 1:\n",
    "    print(\"Es Lunes\")\n",
    "\n",
    "elif dia_semana == 2:\n",
    "    print(\"Es Martes\")\n",
    "\n",
    "elif dia_semana == 3:\n",
    "    print(\"Es Miércoles\")\n",
    "\n",
    "elif dia_semana == 4:\n",
    "    print(\"Es Jueves\")\n",
    "    \n",
    "elif dia_semana == 5:\n",
    "    print(\"Es Viernes\")\n",
    "    \n",
    "elif dia_semana == 6:\n",
    "    print(\"Es Sábado\")\n",
    "    \n",
    "elif dia_semana == 7:\n",
    "    print(\"Es Domingo\")\n",
    "\n",
    "else:\n",
    "    print(\"No es un dia de la semana\")"
   ]
  },
  {
   "cell_type": "markdown",
   "metadata": {},
   "source": [
    "Es Miércoles\n",
    "Ejercicio 3: Juego de Adivinanza\n",
    "\n",
    "Genera un número aleatorio entre 1 y 100.\n",
    "\n",
    "Pídele al usuario que adivine el número.\n",
    "\n",
    "Si el usuario adivina correctamente en el primer intento, muestra \"¡Ganaste en el primer intento!\".\n",
    "\n",
    "Si el usuario no adivina en el primer intento, bríndale pistas (mayor o menor) y permite que intente nuevamente. Muestra cuántos intentos le llevó al final."
   ]
  },
  {
   "cell_type": "code",
   "execution_count": null,
   "metadata": {},
   "outputs": [],
   "source": [
    "\n",
    "numero = 89\n",
    "\n",
    "adivina_numero = int(input(\"Pasa un numero entero entre 1 y 100\"))\n",
    "\n",
    "intentos = 1\n",
    "\n",
    "while numero != adivina_numero:\n",
    "    print(\"lo siento no has acertado, intentalo de nuevo\")\n",
    "    adivina_numero = int(input(\"Pasa un numero entero entre 1 y 100\"))\n",
    "    intentos += 1\n",
    "     \n",
    "print(f\"Perfecto, el numero era {adivina_numero} lo has acertado despues de {intentos} intentos\")"
   ]
  },
  {
   "cell_type": "markdown",
   "metadata": {},
   "source": [
    "Ejercicio 4: Juego de Adivinar la Palabra\n",
    "\n",
    "Elige una palabra secreta y ocúltala utilizando asteriscos, por ejemplo, \"secreto\" se muestra como \"*******\".\n",
    "\n",
    "Permite al usuario adivinar letras una por una.\n",
    "\n",
    "Si la letra adivinada está en la palabra secreta, muestra la palabra con las letras descubiertas y los asteriscos.\n",
    "\n",
    "Si la letra no está en la palabra secreta, resta una vida al jugador.\n",
    "\n",
    "El juego continúa hasta que el jugador adivine la palabra."
   ]
  },
  {
   "cell_type": "code",
   "execution_count": null,
   "metadata": {},
   "outputs": [],
   "source": [
    "\n",
    "palabra_secreta = \"pan\"\n",
    "palabra_oculta = '*' * len(palabra_secreta)\n",
    "\n",
    "#si queremos ver la palabra printada en *** hacemos el print de la palabra oculta\n",
    "lista = []\n",
    "\n",
    "while len(lista) != len(palabra_secreta):\n",
    "    letra = input(\"Empieza el juego, dime una letra para saber si esta dentro de la palabra secreta\")\n",
    "\n",
    "    if letra in palabra_secreta:\n",
    "        print(f\"La letra {letra} esta en la palabra\" )\n",
    "        posicion_letra = palabra_secreta.index(letra)\n",
    "        lista.append(letra)\n",
    "   \n",
    "print(f\"La palabra es {''.join(lista)} \")   "
   ]
  }
 ],
 "metadata": {
  "kernelspec": {
   "display_name": "base",
   "language": "python",
   "name": "python3"
  },
  "language_info": {
   "name": "python",
   "version": "3.11.7"
  }
 },
 "nbformat": 4,
 "nbformat_minor": 2
}
