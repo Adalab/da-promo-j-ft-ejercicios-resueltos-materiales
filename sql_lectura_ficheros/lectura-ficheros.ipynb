{
 "cells": [
  {
   "cell_type": "markdown",
   "metadata": {
    "toc": true
   },
   "source": [
    "<h1>Table of Contents<span class=\"tocSkip\"></span></h1>\n",
    "<div class=\"toc\"><ul class=\"toc-item\"><li><span><a href=\"#Apertura-de-xml-con-Python:\" data-toc-modified-id=\"Apertura-de-xml-con-Python:-1\"><span class=\"toc-item-num\">1&nbsp;&nbsp;</span>Apertura de xml con Python:</a></span></li><li><span><a href=\"#Apertura-de-json-con-Python:\" data-toc-modified-id=\"Apertura-de-json-con-Python:-2\"><span class=\"toc-item-num\">2&nbsp;&nbsp;</span>Apertura de json con Python:</a></span></li><li><span><a href=\"#Apertura-de-xml-con-Pandas:\" data-toc-modified-id=\"Apertura-de-xml-con-Pandas:-3\"><span class=\"toc-item-num\">3&nbsp;&nbsp;</span>Apertura de xml con Pandas:</a></span></li><li><span><a href=\"#Apertura-de-csv-con-Pandas:\" data-toc-modified-id=\"Apertura-de-csv-con-Pandas:-4\"><span class=\"toc-item-num\">4&nbsp;&nbsp;</span>Apertura de csv con Pandas:</a></span></li><li><span><a href=\"#Apertura-de-excel-con-Pandas:\" data-toc-modified-id=\"Apertura-de-excel-con-Pandas:-5\"><span class=\"toc-item-num\">5&nbsp;&nbsp;</span>Apertura de excel con Pandas:</a></span></li><li><span><a href=\"#Apertura-de-json-con-Pandas:\" data-toc-modified-id=\"Apertura-de-json-con-Pandas:-6\"><span class=\"toc-item-num\">6&nbsp;&nbsp;</span>Apertura de json con Pandas:</a></span></li></ul></div>"
   ]
  },
  {
   "cell_type": "markdown",
   "metadata": {},
   "source": [
    "# Apertura de xml con Python:"
   ]
  },
  {
   "cell_type": "markdown",
   "metadata": {},
   "source": [
    "**XML** es un acrónimo de *Extensible Markup Language*, que se traduce como \"Lenguaje de Marcado Extensible\". Se trata de un lenguaje de marcado que se utiliza para codificar y estructurar datos de manera que sean legibles tanto para las máquinas como para los seres humanos.\n",
    "\n",
    "En un archivo XML, los datos se organizan mediante etiquetas que definen la estructura jerárquica de la información. Cada etiqueta tiene una apertura `<etiqueta>` y un cierre `</etiqueta>`, y puede contener datos o subetiquetas anidadas. \n",
    "\n",
    "Por ejemplo, el siguiente fragmento de XML representa un correo electrónico:\n",
    "\n",
    "```xml\n",
    "<correo>\n",
    "  <to>María</to>\n",
    "  <from>\n",
    "    <name>Ada</name>\n",
    "    <email>ada@adalab.es</email>\n",
    "  </from>\n",
    "  <heading>¿Qué tal?</heading>\n",
    "  <body>Hola Mari, qué tal estás, qué tal la familia? Escríbeme pronto, un beso!</body>\n",
    "</correo>\n",
    "```\n",
    "\n",
    "Aquí, `<correo>` es la etiqueta raíz que engloba toda la información del correo. Contiene etiquetas como `<to>`, `<from>`, `<heading>`, y `<body>`, que a su vez pueden contener datos o subetiquetas.\n",
    "\n"
   ]
  },
  {
   "cell_type": "markdown",
   "metadata": {},
   "source": [
    "\n",
    "correo\n",
    "├── to: \"María\"\n",
    "├── from\n",
    "│   ├── name: \"Ada\"\n",
    "│   └── email: \"ada@adalab.es\"\n",
    "├── heading: \"¿Qué tal?\"\n",
    "└── body: \"Hola Mari, qué tal estás, qué tal la familia? Escríbeme pronto, un beso!\"\n",
    "\n",
    "Aquí tenemos una estructura jerárquica del XML que se refleja claramente en este árbol, donde cada nodo hijo está anidado dentro de su nodo padre, mostrando la relación entre las diferentes partes del correo electrónico.\n",
    "\n",
    "- **Nodo raíz (`correo`)**: Contiene todos los otros elementos.\n",
    "- **Nodos hijos (`to`, `from`, `heading`, `body`)**: Representan diferentes partes del correo.\n",
    "- **Nodos más internos (`name`, `email`)**: Contienen detalles específicos del remitente.\n",
    "\n",
    "Este árbol te da una idea clara de cómo están organizados los datos dentro del archivo XML."
   ]
  },
  {
   "cell_type": "markdown",
   "metadata": {},
   "source": [
    "Para acceder a un archivo xml necesitamos importar la librería xml con algunos submódulos. \n",
    "-  xml.etree.ElementTree que es parte de la biblioteca de Python que utilizamos para trabajar con archivos XML.\n",
    "-  xml es un formato de datos que se utiliza para almacenar y transportar información de forma estructurada, similar al formato HTML.\n"
   ]
  },
  {
   "cell_type": "code",
   "execution_count": 7,
   "metadata": {},
   "outputs": [],
   "source": [
    "# - Alias ET para que puedas referenciar este módulo de manera más corta\n",
    "import xml.etree.ElementTree as ET"
   ]
  },
  {
   "cell_type": "markdown",
   "metadata": {},
   "source": [
    "- La función parse() es una de las funciones que ofrece ElementTree. \n",
    "- Su propósito es leer y analizar (parsear) un archivo XML.\n",
    "- El objeto ElementTree que se devuelve de parse() representa la estructura del XML en forma de un árbol de elementos."
   ]
  },
  {
   "cell_type": "code",
   "execution_count": 8,
   "metadata": {},
   "outputs": [],
   "source": [
    "# abrimos el fichero\n",
    "tree = ET.parse('contacto.xml')\n"
   ]
  },
  {
   "cell_type": "markdown",
   "metadata": {},
   "source": [
    "- Ahora vamos a probar getroot() nos devuelve el elemento raíz del árbol XML, que es el elemento superior que contiene todos los otros elementos y datos del XML."
   ]
  },
  {
   "cell_type": "code",
   "execution_count": 9,
   "metadata": {},
   "outputs": [],
   "source": [
    "# Por ejemplo, si quieres acceder al elemento raíz del XML, podrías hacerlo así:\n",
    "root = tree.getroot()"
   ]
  },
  {
   "cell_type": "code",
   "execution_count": 10,
   "metadata": {},
   "outputs": [
    {
     "name": "stdout",
     "output_type": "stream",
     "text": [
      "contact-info\n"
     ]
    }
   ],
   "source": [
    "# Imprime el nombre del nodo raíz usando el atributo tag.\n",
    "# Cada elemento, incluyendo el elemento root tiene un tag y puede tener unos atributos.\n",
    "print(root.tag)"
   ]
  },
  {
   "cell_type": "code",
   "execution_count": 11,
   "metadata": {},
   "outputs": [
    {
     "name": "stdout",
     "output_type": "stream",
     "text": [
      "{}\n"
     ]
    }
   ],
   "source": [
    "# sacamos los atributos de nuestro fichero\n",
    "# os atributos en un elemento XML son pares de nombre-valor que se colocan dentro de la etiqueta de inicio de un elemento.#<contact type=\"Website\" url=\"https://adalab.es/\"></contact>\n",
    "\n",
    "print(root.attrib)"
   ]
  },
  {
   "cell_type": "markdown",
   "metadata": {},
   "source": [
    "- root.find('') saca el primer elemento <contact> dentro del elemento raíz \n",
    "- find('type').text Dentro del primer elemento <contact> encontrado, este método busca el primer elemento <type>."
   ]
  },
  {
   "cell_type": "code",
   "execution_count": 12,
   "metadata": {},
   "outputs": [
    {
     "name": "stdout",
     "output_type": "stream",
     "text": [
      "Website\n"
     ]
    }
   ],
   "source": [
    "print(root.find('contact').find('type').text)"
   ]
  },
  {
   "cell_type": "markdown",
   "metadata": {},
   "source": [
    "Puedes iterar por cada hijo de root y ver la estructura del xml de la siguiente manera:"
   ]
  },
  {
   "cell_type": "code",
   "execution_count": 7,
   "metadata": {},
   "outputs": [
    {
     "name": "stdout",
     "output_type": "stream",
     "text": [
      "contact: Es un hijo de nuestra raiz 'contact-info'\n",
      "type: Es un nieto de nuestra raiz 'contact-info'\n",
      "url: Es un nieto de nuestra raiz 'contact-info'\n",
      "contact: Es un hijo de nuestra raiz 'contact-info'\n",
      "type: Es un nieto de nuestra raiz 'contact-info'\n",
      "address: Es un nieto de nuestra raiz 'contact-info'\n",
      "socialmedia: Es un hijo de nuestra raiz 'contact-info'\n",
      "profile: Es un nieto de nuestra raiz 'contact-info'\n",
      "profile: Es un nieto de nuestra raiz 'contact-info'\n",
      "profile: Es un nieto de nuestra raiz 'contact-info'\n",
      "profile: Es un nieto de nuestra raiz 'contact-info'\n",
      "profile: Es un nieto de nuestra raiz 'contact-info'\n"
     ]
    }
   ],
   "source": [
    "for child in root:\n",
    "    print(f\"{child.tag}: Es un hijo de nuestra raiz 'contact-info'\" )\n",
    "    for subchild in child:\n",
    "        print(f\"{subchild.tag}: Es un nieto de nuestra raiz 'contact-info'\" )"
   ]
  },
  {
   "cell_type": "markdown",
   "metadata": {},
   "source": [
    "Si vas chequeando el archivo xml ves que sigue una estructura de árbol, tiene una rama principal que es contact-info del que salen dos ramas contact y socialmedia. De estos, a su vez salen más ramas:\n",
    "\n",
    "- De la subrama contact salen las siguientes ramas: type, url y address\n",
    "\n",
    "- De la subrama socialmedia sale solo profile"
   ]
  },
  {
   "cell_type": "markdown",
   "metadata": {},
   "source": [
    "contact-info \n",
    "├── contact  \n",
    "│   ├── type: Website  \n",
    "│   └── url: https://adalab.es/   \n",
    "\n",
    "├── contact  \n",
    "│   ├── type: Mail\n",
    "│   └── address: hola@adalab.es\n",
    "│\n",
    "└── socialmedia  \n",
    "    ├── profile  \n",
    "    │   ├── name: Twitter  \n",
    "    │   └── url: https://twitter.com/Adalab_Digital  \n",
    "    │\n",
    "    ├── profile\n",
    "    │   ├── name: Facebook\n",
    "    │   └── url: https://www.facebook.com/AdalabDigital/\n",
    "    │\n",
    "    ├── profile\n",
    "    │   ├── name: Linkedin\n",
    "    │   └── url: https://www.linkedin.com/school/adalab/\n",
    "    │\n",
    "    ├── profile\n",
    "    │   ├── name: Instagram\n",
    "    │   └── url: https://www.instagram.com/adalab_digital/\n",
    "    │\n",
    "    └── profile\n",
    "        ├── name: Youtube\n",
    "        └── url: https://www.youtube.com/channel/UCYmHARvTgsUrm5YdSYwzmDg"
   ]
  },
  {
   "cell_type": "markdown",
   "metadata": {},
   "source": [
    "Ahora que sabes cómo se llaman los campos puedes sacar su contenido uno por uno.\n",
    "Con .find() extraes la primera ocasión en que el tag de un elemento coincida con el string (nombre de la etiqueta)\n",
    "Recuerda que puedes tener múltiples elementos con el mismo nombre."
   ]
  },
  {
   "cell_type": "code",
   "execution_count": 13,
   "metadata": {},
   "outputs": [
    {
     "name": "stdout",
     "output_type": "stream",
     "text": [
      "Website\n"
     ]
    }
   ],
   "source": [
    "print(root.find('contact').find('type').text)"
   ]
  },
  {
   "cell_type": "code",
   "execution_count": 14,
   "metadata": {},
   "outputs": [
    {
     "name": "stdout",
     "output_type": "stream",
     "text": [
      "https://adalab.es/\n"
     ]
    }
   ],
   "source": [
    "print(root.find('contact').find('url').text)"
   ]
  },
  {
   "cell_type": "markdown",
   "metadata": {},
   "source": [
    "Genial!!! Hasta ahora hemos visto como acceder al contenido, pero... 🤔 solo estaba devolviendo el contenido de una etiqueta. ¿Cómo podríamos hacer para que nos devolviera el contenido de todas las etiquetas con el mismo nombre? Usando .findall() que nos da una lista de todos los elementos cuyo tag coincide con el string dado. Para cada contacto sacamos el subelemento que se llama type y accedemos a su texto:"
   ]
  },
  {
   "cell_type": "code",
   "execution_count": 10,
   "metadata": {},
   "outputs": [
    {
     "name": "stdout",
     "output_type": "stream",
     "text": [
      "Website\n",
      "Mail\n"
     ]
    }
   ],
   "source": [
    "# iteramos por el hijo \"contact\" y accedemos a todos\n",
    "for contact in root.findall('contact'):\n",
    "    # dentro de este sacamos su contenido\n",
    "    print(contact.find('type').text)"
   ]
  },
  {
   "cell_type": "code",
   "execution_count": 11,
   "metadata": {},
   "outputs": [
    {
     "name": "stdout",
     "output_type": "stream",
     "text": [
      "Twitter\n",
      "Facebook\n",
      "Linkedin\n",
      "Instagram\n",
      "Youtube\n"
     ]
    }
   ],
   "source": [
    "# como lo haríamos para el otro elemento que teníamos\n",
    "for subelement in root.find('socialmedia').findall('profile'):\n",
    "# dentro de este sacamos su contenido\n",
    "    print(subelement.find('name').text)"
   ]
  },
  {
   "cell_type": "markdown",
   "metadata": {},
   "source": [
    "# Apertura de json con Python:"
   ]
  },
  {
   "cell_type": "code",
   "execution_count": 15,
   "metadata": {},
   "outputs": [],
   "source": [
    "# importamos las librerías que necesitaremos\n",
    "\n",
    "# Importar librería para trabajar con archivos JSON\n",
    "# -----------------------------------------------------------------------\n",
    "import json\n",
    "\n",
    "# Importar librerías para manipulación y análisis de datos\n",
    "# -----------------------------------------------------------------------\n",
    "import pandas as pd\n"
   ]
  },
  {
   "cell_type": "markdown",
   "metadata": {},
   "source": [
    "Cargamos el Json con \"open\", y con load() convertimos el Json en un objeto de Python:"
   ]
  },
  {
   "cell_type": "markdown",
   "metadata": {},
   "source": [
    "with open(...) as ... es una declaración que se utiliza para garantizar que los recursos, como los archivos, se manejen de manera segura. \n",
    "Cuando terminas de trabajar con el archivo, Python se asegurará automáticamente de cerrarlo, incluso si ocurre un error durante la ejecución del bloque de código."
   ]
  },
  {
   "cell_type": "code",
   "execution_count": null,
   "metadata": {},
   "outputs": [],
   "source": [
    "fichero = open(\"personal.json\", \"r\")  # \"r\" paramétro de modo de apertura (como \"r\", \"w\", \"a\" y \"x\" .)\n",
    "personal = json.load(fichero)\n",
    "fichero.close()  # Debes cerrar el archivo manualmente"
   ]
  },
  {
   "cell_type": "code",
   "execution_count": 17,
   "metadata": {},
   "outputs": [],
   "source": [
    "with open(\"personal.json\", \"r\") as fichero: # introducimos el nombre de nuestro archivo json y \"r\" porque lo vamos a leer(read)\n",
    "    personal = json.load(fichero) # igualamos el archivo cargado a una variable para tenerlo almacenado"
   ]
  },
  {
   "cell_type": "markdown",
   "metadata": {},
   "source": [
    "Lectura ('r'):\n",
    "\n",
    "Abre un archivo existente para leer su contenido.\n",
    "Carga el contenido en una variable (como un diccionario en Python).\n",
    "\n",
    "┌──────────────┐\n",
    "│ datos.json   │\n",
    "├──────────────┤\n",
    "│ {\"nombre\":   │\n",
    "│ \"Carla\",     │\n",
    "│ \"edad\": 37}  │  <-- Lee este contenido y lo carga en la variable `data`\n",
    "└──────────────┘\n",
    "\n",
    "Escritura ('w'):\n",
    "\n",
    "Crea o sobrescribe un archivo existente para escribir nuevo contenido.\n",
    "Guarda el contenido de un diccionario en formato JSON en el archivo.\n",
    "Reemplaza cualquier contenido anterior del archivo con el nuevo contenido.\n",
    "\n",
    "\n",
    "┌──────────────┐\n",
    "│ datos.json   │\n",
    "├──────────────┤\n",
    "│ {\"nombre\":   │  <-- Sobrescribe el archivo con este contenido\n",
    "│ \"Carla\",     │\n",
    "│ \"edad\": 37}  │\n",
    "└──────────────┘\n",
    "\n",
    "\n",
    "Modo \"a\" (append):\n",
    "\n",
    "Añade contenido al final de un archivo existente.\n",
    "Crea el archivo si no existe.\n",
    "No borra el contenido anterior.\n",
    "\n",
    "\n",
    "Modo \"x\" (exclusive creation):\n",
    "\n",
    "Crea un nuevo archivo.\n",
    "Genera un error si el archivo ya existe.\n",
    "Evita sobrescribir archivos accidentalmente.\n"
   ]
  },
  {
   "cell_type": "code",
   "execution_count": 18,
   "metadata": {},
   "outputs": [
    {
     "data": {
      "text/plain": [
       "dict"
      ]
     },
     "execution_count": 18,
     "metadata": {},
     "output_type": "execute_result"
    }
   ],
   "source": [
    "# Compruebo el tipo de dato de un objeto\n",
    "type(personal)"
   ]
  },
  {
   "cell_type": "markdown",
   "metadata": {},
   "source": [
    "Esta es la pinta que tiene nuestro archivo. Vemos que tiene una estructura cómo los diccionarios que ya conocemos. Tenemos la key \"workers\" y dentro una lista de diccionarios con todos los trabajadores."
   ]
  },
  {
   "cell_type": "code",
   "execution_count": 19,
   "metadata": {},
   "outputs": [
    {
     "name": "stdout",
     "output_type": "stream",
     "text": [
      "{\n",
      "    \"workers\": [\n",
      "        {\n",
      "            \"nombre\": \"Ana\",\n",
      "            \"edad\": 90,\n",
      "            \"experiencia\": 5,\n",
      "            \"nivel\": \"Senior\",\n",
      "            \"salario\": 50000,\n",
      "            \"mascota\": \"loros\"\n",
      "        },\n",
      "        {\n",
      "            \"nombre\": \"Eva\",\n",
      "            \"edad\": 37,\n",
      "            \"experiencia\": 2,\n",
      "            \"nivel\": \"Mid\",\n",
      "            \"salario\": 35000\n",
      "        },\n",
      "        {\n",
      "            \"nombre\": \"Marta\",\n",
      "            \"edad\": 27,\n",
      "            \"experiencia\": 1,\n",
      "            \"nivel\": \"Junior\",\n",
      "            \"salario\": 25000\n",
      "        },\n",
      "        {\n",
      "            \"nombre\": \"Paula\",\n",
      "            \"edad\": 30,\n",
      "            \"experiencia\": 3,\n",
      "            \"nivel\": \"Mid\",\n",
      "            \"salario\": 35000,\n",
      "            \"mascota\": \"monos\"\n",
      "        }\n",
      "    ]\n",
      "}\n"
     ]
    }
   ],
   "source": [
    "print(json.dumps(personal, indent=4))\n",
    "\n",
    "# json.dumps(): Convierte un objeto de Python (en este caso, un diccionario) de vuelta a una cadena de texto en formato JSON.\n",
    "# json.dumps(): solo crea una nueva cadena que representa el diccionario en formato JSON, pero el diccionario original sigue siendo un diccionario.\n",
    "# indent=4: Especifica que quieres indentar (sangrar) cada nivel del JSON con 4 espacios, lo que mejora la legibilidad."
   ]
  },
  {
   "cell_type": "code",
   "execution_count": 20,
   "metadata": {},
   "outputs": [
    {
     "data": {
      "text/plain": [
       "dict"
      ]
     },
     "execution_count": 20,
     "metadata": {},
     "output_type": "execute_result"
    }
   ],
   "source": [
    "type(personal)"
   ]
  },
  {
   "cell_type": "code",
   "execution_count": 62,
   "metadata": {},
   "outputs": [
    {
     "data": {
      "text/plain": [
       "{'workers': [{'nombre': 'Ana',\n",
       "   'edad': 34,\n",
       "   'experiencia': 5,\n",
       "   'nivel': 'Senior',\n",
       "   'salario': 50000,\n",
       "   'mascota': 'gatos'},\n",
       "  {'nombre': 'Eva',\n",
       "   'edad': 37,\n",
       "   'experiencia': 2,\n",
       "   'nivel': 'Mid',\n",
       "   'salario': 35000},\n",
       "  {'nombre': 'Marta',\n",
       "   'edad': 27,\n",
       "   'experiencia': 1,\n",
       "   'nivel': 'Junior',\n",
       "   'salario': 25000},\n",
       "  {'nombre': 'Paula',\n",
       "   'edad': 30,\n",
       "   'experiencia': 3,\n",
       "   'nivel': 'Mid',\n",
       "   'salario': 35000}]}"
      ]
     },
     "execution_count": 62,
     "metadata": {},
     "output_type": "execute_result"
    }
   ],
   "source": [
    "personal"
   ]
  },
  {
   "cell_type": "markdown",
   "metadata": {},
   "source": [
    "Para saber la longitud de \"workers\":"
   ]
  },
  {
   "cell_type": "code",
   "execution_count": 63,
   "metadata": {},
   "outputs": [
    {
     "data": {
      "text/plain": [
       "4"
      ]
     },
     "execution_count": 63,
     "metadata": {},
     "output_type": "execute_result"
    }
   ],
   "source": [
    "len(personal[\"workers\"])"
   ]
  },
  {
   "cell_type": "markdown",
   "metadata": {},
   "source": [
    "Accedemos a cada uno de los registros dentro de \"workers\":"
   ]
  },
  {
   "cell_type": "code",
   "execution_count": 13,
   "metadata": {},
   "outputs": [
    {
     "name": "stdout",
     "output_type": "stream",
     "text": [
      "{'nombre': 'Ana', 'edad': 34, 'experiencia': 5, 'nivel': 'Senior', 'salario': 50000, 'mascota': 'gatos'}\n",
      "{'nombre': 'Eva', 'edad': 37, 'experiencia': 2, 'nivel': 'Mid', 'salario': 35000}\n",
      "{'nombre': 'Marta', 'edad': 27, 'experiencia': 1, 'nivel': 'Junior', 'salario': 25000}\n",
      "{'nombre': 'Paula', 'edad': 30, 'experiencia': 3, 'nivel': 'Mid', 'salario': 35000}\n"
     ]
    }
   ],
   "source": [
    "for person in personal[\"workers\"]:\n",
    "    print(person)\n"
   ]
  },
  {
   "cell_type": "markdown",
   "metadata": {},
   "source": [
    "Para acceder a cada uno de los registros, usamos los índices:"
   ]
  },
  {
   "cell_type": "code",
   "execution_count": 68,
   "metadata": {},
   "outputs": [
    {
     "data": {
      "text/plain": [
       "{'nombre': 'Ana',\n",
       " 'edad': 34,\n",
       " 'experiencia': 5,\n",
       " 'nivel': 'Senior',\n",
       " 'salario': 50000,\n",
       " 'mascota': 'gatos'}"
      ]
     },
     "execution_count": 68,
     "metadata": {},
     "output_type": "execute_result"
    }
   ],
   "source": [
    "personal[\"workers\"][0]"
   ]
  },
  {
   "cell_type": "markdown",
   "metadata": {},
   "source": [
    "Con las keys podemos acceder a cada uno de los valores del diccionario:"
   ]
  },
  {
   "cell_type": "code",
   "execution_count": 69,
   "metadata": {},
   "outputs": [
    {
     "data": {
      "text/plain": [
       "'Ana'"
      ]
     },
     "execution_count": 69,
     "metadata": {},
     "output_type": "execute_result"
    }
   ],
   "source": [
    "personal[\"workers\"][0][\"nombre\"]"
   ]
  },
  {
   "cell_type": "markdown",
   "metadata": {},
   "source": [
    "Además, podemos cambiar el valor de cada una de las keys:"
   ]
  },
  {
   "cell_type": "code",
   "execution_count": 72,
   "metadata": {},
   "outputs": [
    {
     "data": {
      "text/plain": [
       "90"
      ]
     },
     "execution_count": 72,
     "metadata": {},
     "output_type": "execute_result"
    }
   ],
   "source": [
    "personal[\"workers\"][0][\"edad\"]=90\n",
    "personal[\"workers\"][0][\"edad\"]"
   ]
  },
  {
   "cell_type": "code",
   "execution_count": 73,
   "metadata": {},
   "outputs": [
    {
     "data": {
      "text/plain": [
       "{'nombre': 'Ana',\n",
       " 'edad': 90,\n",
       " 'experiencia': 5,\n",
       " 'nivel': 'Senior',\n",
       " 'salario': 50000,\n",
       " 'mascota': 'gatos'}"
      ]
     },
     "execution_count": 73,
     "metadata": {},
     "output_type": "execute_result"
    }
   ],
   "source": [
    "personal[\"workers\"][0]"
   ]
  },
  {
   "cell_type": "markdown",
   "metadata": {},
   "source": [
    "Esto lo podemos hacer en bucle e incluyendo condiciones:"
   ]
  },
  {
   "cell_type": "markdown",
   "metadata": {},
   "source": [
    "En este caso, si el nombre de alguna de las personas es igual a Ana, le añadimos la key \"mascota\"."
   ]
  },
  {
   "cell_type": "code",
   "execution_count": 75,
   "metadata": {},
   "outputs": [],
   "source": [
    "# Por cada elemento en la lista workers, recorreré todos los índices desde 0 hasta el final de la lista.\n",
    "for i in range(len(personal[\"workers\"])):\n",
    "    # y por cada trabajador que encuentres con el nombre Ana, asigna 'gatos' como su mascota.\"\n",
    "    if personal[\"workers\"][i][\"nombre\"]==\"Ana\":\n",
    "        personal[\"workers\"][i][\"mascota\"] = \"loros\""
   ]
  },
  {
   "cell_type": "code",
   "execution_count": 21,
   "metadata": {},
   "outputs": [
    {
     "data": {
      "text/plain": [
       "{'nombre': 'Ana',\n",
       " 'edad': 90,\n",
       " 'experiencia': 5,\n",
       " 'nivel': 'Senior',\n",
       " 'salario': 50000,\n",
       " 'mascota': 'loros'}"
      ]
     },
     "execution_count": 21,
     "metadata": {},
     "output_type": "execute_result"
    }
   ],
   "source": [
    "personal[\"workers\"][0]"
   ]
  },
  {
   "cell_type": "code",
   "execution_count": 22,
   "metadata": {},
   "outputs": [
    {
     "data": {
      "text/plain": [
       "{'nombre': 'Paula',\n",
       " 'edad': 30,\n",
       " 'experiencia': 3,\n",
       " 'nivel': 'Mid',\n",
       " 'salario': 35000,\n",
       " 'mascota': 'monos'}"
      ]
     },
     "execution_count": 22,
     "metadata": {},
     "output_type": "execute_result"
    }
   ],
   "source": [
    "# Cambiar la mascota de Paula en el índice 3\n",
    "personal[\"workers\"][3][\"mascota\"] = \"monos\"\n",
    "personal[\"workers\"][3]"
   ]
  },
  {
   "cell_type": "markdown",
   "metadata": {},
   "source": [
    "Guardamos el fichero actualizado en un nuevo json. En este caso usamos \"w\" ya que queremos escribir (write):"
   ]
  },
  {
   "cell_type": "code",
   "execution_count": 80,
   "metadata": {},
   "outputs": [],
   "source": [
    "with open(\"personal.json\", \"w\") as fichero:\n",
    "    json.dump(personal, fichero)"
   ]
  },
  {
   "cell_type": "markdown",
   "metadata": {},
   "source": [
    "# Apertura de xml con Pandas:"
   ]
  },
  {
   "cell_type": "code",
   "execution_count": 118,
   "metadata": {},
   "outputs": [],
   "source": [
    "# Lee el contenido del archivo XML (\"books.xml\").\n",
    "# Convierte el contenido de ese archivo en un DataFrame de pandas.\n",
    "\n",
    "df = pd.read_xml(\"books.xml\")"
   ]
  },
  {
   "cell_type": "markdown",
   "metadata": {},
   "source": [
    "si da un error, ejecutar en la temrinal en el entorno en el que estemos trabajando\n",
    "\n",
    "pip install lxml"
   ]
  },
  {
   "cell_type": "code",
   "execution_count": 119,
   "metadata": {},
   "outputs": [
    {
     "data": {
      "text/html": [
       "<div>\n",
       "<style scoped>\n",
       "    .dataframe tbody tr th:only-of-type {\n",
       "        vertical-align: middle;\n",
       "    }\n",
       "\n",
       "    .dataframe tbody tr th {\n",
       "        vertical-align: top;\n",
       "    }\n",
       "\n",
       "    .dataframe thead th {\n",
       "        text-align: right;\n",
       "    }\n",
       "</style>\n",
       "<table border=\"1\" class=\"dataframe\">\n",
       "  <thead>\n",
       "    <tr style=\"text-align: right;\">\n",
       "      <th></th>\n",
       "      <th>id</th>\n",
       "      <th>author</th>\n",
       "      <th>title</th>\n",
       "      <th>genre</th>\n",
       "      <th>price</th>\n",
       "      <th>publish_date</th>\n",
       "      <th>description</th>\n",
       "    </tr>\n",
       "  </thead>\n",
       "  <tbody>\n",
       "    <tr>\n",
       "      <th>0</th>\n",
       "      <td>bk101</td>\n",
       "      <td>Gambardella, Matthew</td>\n",
       "      <td>XML Developer's Guide</td>\n",
       "      <td>Computer</td>\n",
       "      <td>44.95</td>\n",
       "      <td>2000-10-01</td>\n",
       "      <td>An in-depth look at creating applications \\n  ...</td>\n",
       "    </tr>\n",
       "    <tr>\n",
       "      <th>1</th>\n",
       "      <td>bk102</td>\n",
       "      <td>Ralls, Kim</td>\n",
       "      <td>Midnight Rain</td>\n",
       "      <td>Fantasy</td>\n",
       "      <td>5.95</td>\n",
       "      <td>2000-12-16</td>\n",
       "      <td>A former architect battles corporate zombies, ...</td>\n",
       "    </tr>\n",
       "    <tr>\n",
       "      <th>2</th>\n",
       "      <td>bk103</td>\n",
       "      <td>Corets, Eva</td>\n",
       "      <td>Maeve Ascendant</td>\n",
       "      <td>Fantasy</td>\n",
       "      <td>5.95</td>\n",
       "      <td>2000-11-17</td>\n",
       "      <td>After the collapse of a nanotechnology \\n     ...</td>\n",
       "    </tr>\n",
       "    <tr>\n",
       "      <th>3</th>\n",
       "      <td>bk104</td>\n",
       "      <td>Corets, Eva</td>\n",
       "      <td>Oberon's Legacy</td>\n",
       "      <td>Fantasy</td>\n",
       "      <td>5.95</td>\n",
       "      <td>2001-03-10</td>\n",
       "      <td>In post-apocalypse England, the mysterious \\n ...</td>\n",
       "    </tr>\n",
       "    <tr>\n",
       "      <th>4</th>\n",
       "      <td>bk105</td>\n",
       "      <td>Corets, Eva</td>\n",
       "      <td>The Sundered Grail</td>\n",
       "      <td>Fantasy</td>\n",
       "      <td>5.95</td>\n",
       "      <td>2001-09-10</td>\n",
       "      <td>The two daughters of Maeve, half-sisters, \\n  ...</td>\n",
       "    </tr>\n",
       "  </tbody>\n",
       "</table>\n",
       "</div>"
      ],
      "text/plain": [
       "      id                author                  title     genre  price  \\\n",
       "0  bk101  Gambardella, Matthew  XML Developer's Guide  Computer  44.95   \n",
       "1  bk102            Ralls, Kim          Midnight Rain   Fantasy   5.95   \n",
       "2  bk103           Corets, Eva        Maeve Ascendant   Fantasy   5.95   \n",
       "3  bk104           Corets, Eva        Oberon's Legacy   Fantasy   5.95   \n",
       "4  bk105           Corets, Eva     The Sundered Grail   Fantasy   5.95   \n",
       "\n",
       "  publish_date                                        description  \n",
       "0   2000-10-01  An in-depth look at creating applications \\n  ...  \n",
       "1   2000-12-16  A former architect battles corporate zombies, ...  \n",
       "2   2000-11-17  After the collapse of a nanotechnology \\n     ...  \n",
       "3   2001-03-10  In post-apocalypse England, the mysterious \\n ...  \n",
       "4   2001-09-10  The two daughters of Maeve, half-sisters, \\n  ...  "
      ]
     },
     "execution_count": 119,
     "metadata": {},
     "output_type": "execute_result"
    }
   ],
   "source": [
    "# El método df.head() se usa en pandas para ver las primeras filas de un DataFrame. \n",
    "\n",
    "df.head()"
   ]
  },
  {
   "cell_type": "markdown",
   "metadata": {},
   "source": [
    "¿Qué es un dataframe? \n",
    "Una estructura de datos en la biblioteca pandas de Python, que se utiliza para almacenar y manipular datos en forma de filas y columnas, similar a una hoja de cálculo o una tabla en una base de datos."
   ]
  },
  {
   "cell_type": "markdown",
   "metadata": {},
   "source": [
    "Ahora ya tienes el xml en un DataFrame y puedes aplicar los métodos que has aprendido anteriormente. Ya ves que es mucho más sencillo abrir este tipo de archivos con Pandas!!"
   ]
  },
  {
   "cell_type": "markdown",
   "metadata": {},
   "source": [
    "# Apertura de csv con Pandas:"
   ]
  },
  {
   "cell_type": "markdown",
   "metadata": {},
   "source": [
    "Probablemente uno de los tipos de archivo más usados"
   ]
  },
  {
   "cell_type": "code",
   "execution_count": 27,
   "metadata": {},
   "outputs": [],
   "source": [
    "# Lee el contenido del archivo csv (\"ufo.csv\").\n",
    "# Convierte el contenido de ese archivo en un DataFrame de pandas.\n",
    "\n",
    "df_ufo_csv = pd.read_csv(\"ufo2.csv\")"
   ]
  },
  {
   "cell_type": "code",
   "execution_count": 34,
   "metadata": {},
   "outputs": [
    {
     "data": {
      "text/html": [
       "<div>\n",
       "<style scoped>\n",
       "    .dataframe tbody tr th:only-of-type {\n",
       "        vertical-align: middle;\n",
       "    }\n",
       "\n",
       "    .dataframe tbody tr th {\n",
       "        vertical-align: top;\n",
       "    }\n",
       "\n",
       "    .dataframe thead th {\n",
       "        text-align: right;\n",
       "    }\n",
       "</style>\n",
       "<table border=\"1\" class=\"dataframe\">\n",
       "  <thead>\n",
       "    <tr style=\"text-align: right;\">\n",
       "      <th></th>\n",
       "      <th>Date_time</th>\n",
       "      <th>Unnamed: 0</th>\n",
       "      <th>date_documented</th>\n",
       "      <th>Year</th>\n",
       "      <th>Month</th>\n",
       "      <th>Hour</th>\n",
       "      <th>Season</th>\n",
       "      <th>Country_Code</th>\n",
       "      <th>Country</th>\n",
       "      <th>Region</th>\n",
       "      <th>Locale</th>\n",
       "      <th>latitude</th>\n",
       "      <th>longitude</th>\n",
       "      <th>UFO_shape</th>\n",
       "      <th>length_of_encounter_seconds</th>\n",
       "      <th>Encounter_Duration</th>\n",
       "      <th>Description</th>\n",
       "    </tr>\n",
       "  </thead>\n",
       "  <tbody>\n",
       "    <tr>\n",
       "      <th>0</th>\n",
       "      <td>1949-10-10 20:30:00</td>\n",
       "      <td>0</td>\n",
       "      <td>4/27/2004</td>\n",
       "      <td>1949</td>\n",
       "      <td>10</td>\n",
       "      <td>20</td>\n",
       "      <td>Autumn</td>\n",
       "      <td>USA</td>\n",
       "      <td>United States</td>\n",
       "      <td>Texas</td>\n",
       "      <td>San Marcos</td>\n",
       "      <td>29.883056</td>\n",
       "      <td>-97.941111</td>\n",
       "      <td>Cylinder</td>\n",
       "      <td>2700.0</td>\n",
       "      <td>45 minutes</td>\n",
       "      <td>This event took place in early fall around 194...</td>\n",
       "    </tr>\n",
       "    <tr>\n",
       "      <th>1</th>\n",
       "      <td>1949-10-10 21:00:00</td>\n",
       "      <td>1</td>\n",
       "      <td>12/16/2005</td>\n",
       "      <td>1949</td>\n",
       "      <td>10</td>\n",
       "      <td>21</td>\n",
       "      <td>Autumn</td>\n",
       "      <td>USA</td>\n",
       "      <td>United States</td>\n",
       "      <td>Texas</td>\n",
       "      <td>Bexar County</td>\n",
       "      <td>29.384210</td>\n",
       "      <td>-98.581082</td>\n",
       "      <td>Light</td>\n",
       "      <td>7200.0</td>\n",
       "      <td>1-2 hrs</td>\n",
       "      <td>1949 Lackland AFB&amp;#44 TX.  Lights racing acros...</td>\n",
       "    </tr>\n",
       "    <tr>\n",
       "      <th>2</th>\n",
       "      <td>1955-10-10 17:00:00</td>\n",
       "      <td>2</td>\n",
       "      <td>1/21/2008</td>\n",
       "      <td>1955</td>\n",
       "      <td>10</td>\n",
       "      <td>17</td>\n",
       "      <td>Autumn</td>\n",
       "      <td>GBR</td>\n",
       "      <td>United Kingdom</td>\n",
       "      <td>England</td>\n",
       "      <td>Chester</td>\n",
       "      <td>53.200000</td>\n",
       "      <td>-2.916667</td>\n",
       "      <td>Circle</td>\n",
       "      <td>20.0</td>\n",
       "      <td>20 seconds</td>\n",
       "      <td>Green/Orange circular disc over Chester&amp;#44 En...</td>\n",
       "    </tr>\n",
       "    <tr>\n",
       "      <th>3</th>\n",
       "      <td>1956-10-10 21:00:00</td>\n",
       "      <td>3</td>\n",
       "      <td>1/17/2004</td>\n",
       "      <td>1956</td>\n",
       "      <td>10</td>\n",
       "      <td>21</td>\n",
       "      <td>Autumn</td>\n",
       "      <td>USA</td>\n",
       "      <td>United States</td>\n",
       "      <td>Texas</td>\n",
       "      <td>Edna</td>\n",
       "      <td>28.978333</td>\n",
       "      <td>-96.645833</td>\n",
       "      <td>Circle</td>\n",
       "      <td>20.0</td>\n",
       "      <td>1/2 hour</td>\n",
       "      <td>My older brother and twin sister were leaving ...</td>\n",
       "    </tr>\n",
       "    <tr>\n",
       "      <th>4</th>\n",
       "      <td>1960-10-10 20:00:00</td>\n",
       "      <td>4</td>\n",
       "      <td>1/22/2004</td>\n",
       "      <td>1960</td>\n",
       "      <td>10</td>\n",
       "      <td>20</td>\n",
       "      <td>Autumn</td>\n",
       "      <td>USA</td>\n",
       "      <td>United States</td>\n",
       "      <td>Hawaii</td>\n",
       "      <td>Kaneohe</td>\n",
       "      <td>21.418056</td>\n",
       "      <td>-157.803611</td>\n",
       "      <td>Light</td>\n",
       "      <td>900.0</td>\n",
       "      <td>15 minutes</td>\n",
       "      <td>AS a Marine 1st Lt. flying an FJ4B fighter/att...</td>\n",
       "    </tr>\n",
       "  </tbody>\n",
       "</table>\n",
       "</div>"
      ],
      "text/plain": [
       "             Date_time  Unnamed: 0 date_documented  Year  Month  Hour  Season  \\\n",
       "0  1949-10-10 20:30:00           0       4/27/2004  1949     10    20  Autumn   \n",
       "1  1949-10-10 21:00:00           1      12/16/2005  1949     10    21  Autumn   \n",
       "2  1955-10-10 17:00:00           2       1/21/2008  1955     10    17  Autumn   \n",
       "3  1956-10-10 21:00:00           3       1/17/2004  1956     10    21  Autumn   \n",
       "4  1960-10-10 20:00:00           4       1/22/2004  1960     10    20  Autumn   \n",
       "\n",
       "  Country_Code         Country   Region        Locale   latitude   longitude  \\\n",
       "0          USA   United States    Texas    San Marcos  29.883056  -97.941111   \n",
       "1          USA   United States    Texas  Bexar County  29.384210  -98.581082   \n",
       "2          GBR  United Kingdom  England       Chester  53.200000   -2.916667   \n",
       "3          USA   United States    Texas          Edna  28.978333  -96.645833   \n",
       "4          USA   United States   Hawaii       Kaneohe  21.418056 -157.803611   \n",
       "\n",
       "  UFO_shape  length_of_encounter_seconds Encounter_Duration  \\\n",
       "0  Cylinder                       2700.0         45 minutes   \n",
       "1     Light                       7200.0            1-2 hrs   \n",
       "2    Circle                         20.0         20 seconds   \n",
       "3    Circle                         20.0           1/2 hour   \n",
       "4     Light                        900.0         15 minutes   \n",
       "\n",
       "                                         Description  \n",
       "0  This event took place in early fall around 194...  \n",
       "1  1949 Lackland AFB&#44 TX.  Lights racing acros...  \n",
       "2  Green/Orange circular disc over Chester&#44 En...  \n",
       "3  My older brother and twin sister were leaving ...  \n",
       "4  AS a Marine 1st Lt. flying an FJ4B fighter/att...  "
      ]
     },
     "execution_count": 34,
     "metadata": {},
     "output_type": "execute_result"
    }
   ],
   "source": [
    "df_ufo_csv.head()"
   ]
  },
  {
   "cell_type": "markdown",
   "metadata": {},
   "source": [
    "Ups!! Al abrir el \"csv\" ha creado una columna: \"Unnamed: 0\" que no forma parte del archivo original.\n",
    "Cuando abrimos un archivo CSV con pandas usando read_csv(), a veces puedes encontrarte con una columna adicional llamada \"Unnamed: 0\"\n",
    "Esto lo hace Pandas si no le indicas a pandas cuál debe ser el índice del DataFrame, pandas crea un nuevo índice por defecto, numerando las filas desde 0."
   ]
  },
  {
   "cell_type": "code",
   "execution_count": 33,
   "metadata": {},
   "outputs": [],
   "source": [
    "# Si nuestro DataFrame tiene un índice que no queremos, esta instrucción lo convierte de nuevo en una columna normal.\n",
    "\n",
    "df_ufo_csv.reset_index(inplace=True)"
   ]
  },
  {
   "cell_type": "code",
   "execution_count": 31,
   "metadata": {},
   "outputs": [],
   "source": [
    "# Esto lee un archivo CSV (\"ufo.csv\") y usa la primera columna del archivo como el índice del DataFrame.\n",
    "# Así, esa primera columna no aparecerá como datos (no tiene vamor, solo ordena), sino como el índice que identifica cada fila.\n",
    "\n",
    "df_ufo_csv = pd.read_csv(\"ufo.csv\", index_col=\"Date_time\")"
   ]
  },
  {
   "cell_type": "code",
   "execution_count": 163,
   "metadata": {},
   "outputs": [
    {
     "data": {
      "text/html": [
       "<div>\n",
       "<style scoped>\n",
       "    .dataframe tbody tr th:only-of-type {\n",
       "        vertical-align: middle;\n",
       "    }\n",
       "\n",
       "    .dataframe tbody tr th {\n",
       "        vertical-align: top;\n",
       "    }\n",
       "\n",
       "    .dataframe thead th {\n",
       "        text-align: right;\n",
       "    }\n",
       "</style>\n",
       "<table border=\"1\" class=\"dataframe\">\n",
       "  <thead>\n",
       "    <tr style=\"text-align: right;\">\n",
       "      <th></th>\n",
       "      <th>date_documented</th>\n",
       "      <th>Year</th>\n",
       "      <th>Month</th>\n",
       "      <th>Hour</th>\n",
       "      <th>Season</th>\n",
       "      <th>Country_Code</th>\n",
       "      <th>Country</th>\n",
       "      <th>Region</th>\n",
       "      <th>Locale</th>\n",
       "      <th>latitude</th>\n",
       "      <th>longitude</th>\n",
       "      <th>UFO_shape</th>\n",
       "      <th>length_of_encounter_seconds</th>\n",
       "      <th>Encounter_Duration</th>\n",
       "      <th>Description</th>\n",
       "    </tr>\n",
       "    <tr>\n",
       "      <th>Date_time</th>\n",
       "      <th></th>\n",
       "      <th></th>\n",
       "      <th></th>\n",
       "      <th></th>\n",
       "      <th></th>\n",
       "      <th></th>\n",
       "      <th></th>\n",
       "      <th></th>\n",
       "      <th></th>\n",
       "      <th></th>\n",
       "      <th></th>\n",
       "      <th></th>\n",
       "      <th></th>\n",
       "      <th></th>\n",
       "      <th></th>\n",
       "    </tr>\n",
       "  </thead>\n",
       "  <tbody>\n",
       "    <tr>\n",
       "      <th>1949-10-10 20:30:00</th>\n",
       "      <td>4/27/2004</td>\n",
       "      <td>1949</td>\n",
       "      <td>10</td>\n",
       "      <td>20</td>\n",
       "      <td>Autumn</td>\n",
       "      <td>USA</td>\n",
       "      <td>United States</td>\n",
       "      <td>Texas</td>\n",
       "      <td>San Marcos</td>\n",
       "      <td>29.883056</td>\n",
       "      <td>-97.941111</td>\n",
       "      <td>Cylinder</td>\n",
       "      <td>2700.0</td>\n",
       "      <td>45 minutes</td>\n",
       "      <td>This event took place in early fall around 194...</td>\n",
       "    </tr>\n",
       "    <tr>\n",
       "      <th>1949-10-10 21:00:00</th>\n",
       "      <td>12/16/2005</td>\n",
       "      <td>1949</td>\n",
       "      <td>10</td>\n",
       "      <td>21</td>\n",
       "      <td>Autumn</td>\n",
       "      <td>USA</td>\n",
       "      <td>United States</td>\n",
       "      <td>Texas</td>\n",
       "      <td>Bexar County</td>\n",
       "      <td>29.384210</td>\n",
       "      <td>-98.581082</td>\n",
       "      <td>Light</td>\n",
       "      <td>7200.0</td>\n",
       "      <td>1-2 hrs</td>\n",
       "      <td>1949 Lackland AFB&amp;#44 TX.  Lights racing acros...</td>\n",
       "    </tr>\n",
       "    <tr>\n",
       "      <th>1955-10-10 17:00:00</th>\n",
       "      <td>1/21/2008</td>\n",
       "      <td>1955</td>\n",
       "      <td>10</td>\n",
       "      <td>17</td>\n",
       "      <td>Autumn</td>\n",
       "      <td>GBR</td>\n",
       "      <td>United Kingdom</td>\n",
       "      <td>England</td>\n",
       "      <td>Chester</td>\n",
       "      <td>53.200000</td>\n",
       "      <td>-2.916667</td>\n",
       "      <td>Circle</td>\n",
       "      <td>20.0</td>\n",
       "      <td>20 seconds</td>\n",
       "      <td>Green/Orange circular disc over Chester&amp;#44 En...</td>\n",
       "    </tr>\n",
       "    <tr>\n",
       "      <th>1956-10-10 21:00:00</th>\n",
       "      <td>1/17/2004</td>\n",
       "      <td>1956</td>\n",
       "      <td>10</td>\n",
       "      <td>21</td>\n",
       "      <td>Autumn</td>\n",
       "      <td>USA</td>\n",
       "      <td>United States</td>\n",
       "      <td>Texas</td>\n",
       "      <td>Edna</td>\n",
       "      <td>28.978333</td>\n",
       "      <td>-96.645833</td>\n",
       "      <td>Circle</td>\n",
       "      <td>20.0</td>\n",
       "      <td>1/2 hour</td>\n",
       "      <td>My older brother and twin sister were leaving ...</td>\n",
       "    </tr>\n",
       "    <tr>\n",
       "      <th>1960-10-10 20:00:00</th>\n",
       "      <td>1/22/2004</td>\n",
       "      <td>1960</td>\n",
       "      <td>10</td>\n",
       "      <td>20</td>\n",
       "      <td>Autumn</td>\n",
       "      <td>USA</td>\n",
       "      <td>United States</td>\n",
       "      <td>Hawaii</td>\n",
       "      <td>Kaneohe</td>\n",
       "      <td>21.418056</td>\n",
       "      <td>-157.803611</td>\n",
       "      <td>Light</td>\n",
       "      <td>900.0</td>\n",
       "      <td>15 minutes</td>\n",
       "      <td>AS a Marine 1st Lt. flying an FJ4B fighter/att...</td>\n",
       "    </tr>\n",
       "  </tbody>\n",
       "</table>\n",
       "</div>"
      ],
      "text/plain": [
       "                    date_documented  Year  Month  Hour  Season Country_Code  \\\n",
       "Date_time                                                                     \n",
       "1949-10-10 20:30:00       4/27/2004  1949     10    20  Autumn          USA   \n",
       "1949-10-10 21:00:00      12/16/2005  1949     10    21  Autumn          USA   \n",
       "1955-10-10 17:00:00       1/21/2008  1955     10    17  Autumn          GBR   \n",
       "1956-10-10 21:00:00       1/17/2004  1956     10    21  Autumn          USA   \n",
       "1960-10-10 20:00:00       1/22/2004  1960     10    20  Autumn          USA   \n",
       "\n",
       "                            Country   Region        Locale   latitude  \\\n",
       "Date_time                                                               \n",
       "1949-10-10 20:30:00   United States    Texas    San Marcos  29.883056   \n",
       "1949-10-10 21:00:00   United States    Texas  Bexar County  29.384210   \n",
       "1955-10-10 17:00:00  United Kingdom  England       Chester  53.200000   \n",
       "1956-10-10 21:00:00   United States    Texas          Edna  28.978333   \n",
       "1960-10-10 20:00:00   United States   Hawaii       Kaneohe  21.418056   \n",
       "\n",
       "                      longitude UFO_shape  length_of_encounter_seconds  \\\n",
       "Date_time                                                                \n",
       "1949-10-10 20:30:00  -97.941111  Cylinder                       2700.0   \n",
       "1949-10-10 21:00:00  -98.581082     Light                       7200.0   \n",
       "1955-10-10 17:00:00   -2.916667    Circle                         20.0   \n",
       "1956-10-10 21:00:00  -96.645833    Circle                         20.0   \n",
       "1960-10-10 20:00:00 -157.803611     Light                        900.0   \n",
       "\n",
       "                    Encounter_Duration  \\\n",
       "Date_time                                \n",
       "1949-10-10 20:30:00         45 minutes   \n",
       "1949-10-10 21:00:00            1-2 hrs   \n",
       "1955-10-10 17:00:00         20 seconds   \n",
       "1956-10-10 21:00:00           1/2 hour   \n",
       "1960-10-10 20:00:00         15 minutes   \n",
       "\n",
       "                                                           Description  \n",
       "Date_time                                                               \n",
       "1949-10-10 20:30:00  This event took place in early fall around 194...  \n",
       "1949-10-10 21:00:00  1949 Lackland AFB&#44 TX.  Lights racing acros...  \n",
       "1955-10-10 17:00:00  Green/Orange circular disc over Chester&#44 En...  \n",
       "1956-10-10 21:00:00  My older brother and twin sister were leaving ...  \n",
       "1960-10-10 20:00:00  AS a Marine 1st Lt. flying an FJ4B fighter/att...  "
      ]
     },
     "execution_count": 163,
     "metadata": {},
     "output_type": "execute_result"
    }
   ],
   "source": [
    "df_ufo_csv.head()"
   ]
  },
  {
   "cell_type": "code",
   "execution_count": 35,
   "metadata": {},
   "outputs": [],
   "source": [
    "#Guardar un dataframe sin indice \n",
    "df_ufo_csv.to_csv(\"ufo.csv\", index=False)\n"
   ]
  },
  {
   "cell_type": "markdown",
   "metadata": {},
   "source": [
    "Puedes guardar un DataFrame en un formato diferente al que tenía el archivo de inicio. Por ejemplo, vamos a guardarlo en Excel:"
   ]
  },
  {
   "cell_type": "code",
   "execution_count": 36,
   "metadata": {},
   "outputs": [],
   "source": [
    "df_ufo_csv.to_excel(\"ufo.xlsx\")"
   ]
  },
  {
   "cell_type": "markdown",
   "metadata": {},
   "source": [
    "Aquí tienes la documentación con todos los parámetros que admite [read_csv](https://pandas.pydata.org/docs/reference/api/pandas.read_csv.html).\n"
   ]
  },
  {
   "cell_type": "markdown",
   "metadata": {},
   "source": [
    "# Apertura de excel con Pandas:"
   ]
  },
  {
   "cell_type": "code",
   "execution_count": 84,
   "metadata": {},
   "outputs": [],
   "source": [
    "df_ufo_excel = pd.read_excel(\"ufo.xlsx\", index_col = 0)"
   ]
  },
  {
   "cell_type": "markdown",
   "metadata": {},
   "source": [
    "Al igual que con el \"csv\", hay que decirle a Pandas que la primera columna es el índice para que no cree la columna \"Unnamed: 0\"."
   ]
  },
  {
   "cell_type": "code",
   "execution_count": 32,
   "metadata": {},
   "outputs": [
    {
     "data": {
      "text/html": [
       "<div>\n",
       "<style scoped>\n",
       "    .dataframe tbody tr th:only-of-type {\n",
       "        vertical-align: middle;\n",
       "    }\n",
       "\n",
       "    .dataframe tbody tr th {\n",
       "        vertical-align: top;\n",
       "    }\n",
       "\n",
       "    .dataframe thead th {\n",
       "        text-align: right;\n",
       "    }\n",
       "</style>\n",
       "<table border=\"1\" class=\"dataframe\">\n",
       "  <thead>\n",
       "    <tr style=\"text-align: right;\">\n",
       "      <th></th>\n",
       "      <th>Date_time</th>\n",
       "      <th>date_documented</th>\n",
       "      <th>Year</th>\n",
       "      <th>Month</th>\n",
       "      <th>Hour</th>\n",
       "      <th>Season</th>\n",
       "      <th>Country_Code</th>\n",
       "      <th>Country</th>\n",
       "      <th>Region</th>\n",
       "      <th>Locale</th>\n",
       "      <th>latitude</th>\n",
       "      <th>longitude</th>\n",
       "      <th>UFO_shape</th>\n",
       "      <th>length_of_encounter_seconds</th>\n",
       "      <th>Encounter_Duration</th>\n",
       "      <th>Description</th>\n",
       "    </tr>\n",
       "  </thead>\n",
       "  <tbody>\n",
       "    <tr>\n",
       "      <th>0</th>\n",
       "      <td>1949-10-10 20:30:00</td>\n",
       "      <td>4/27/2004</td>\n",
       "      <td>1949</td>\n",
       "      <td>10</td>\n",
       "      <td>20</td>\n",
       "      <td>Autumn</td>\n",
       "      <td>USA</td>\n",
       "      <td>United States</td>\n",
       "      <td>Texas</td>\n",
       "      <td>San Marcos</td>\n",
       "      <td>29.883056</td>\n",
       "      <td>-97.941111</td>\n",
       "      <td>Cylinder</td>\n",
       "      <td>2700.0</td>\n",
       "      <td>45 minutes</td>\n",
       "      <td>This event took place in early fall around 194...</td>\n",
       "    </tr>\n",
       "    <tr>\n",
       "      <th>1</th>\n",
       "      <td>1949-10-10 21:00:00</td>\n",
       "      <td>12/16/2005</td>\n",
       "      <td>1949</td>\n",
       "      <td>10</td>\n",
       "      <td>21</td>\n",
       "      <td>Autumn</td>\n",
       "      <td>USA</td>\n",
       "      <td>United States</td>\n",
       "      <td>Texas</td>\n",
       "      <td>Bexar County</td>\n",
       "      <td>29.384210</td>\n",
       "      <td>-98.581082</td>\n",
       "      <td>Light</td>\n",
       "      <td>7200.0</td>\n",
       "      <td>1-2 hrs</td>\n",
       "      <td>1949 Lackland AFB&amp;#44 TX.  Lights racing acros...</td>\n",
       "    </tr>\n",
       "    <tr>\n",
       "      <th>2</th>\n",
       "      <td>1955-10-10 17:00:00</td>\n",
       "      <td>1/21/2008</td>\n",
       "      <td>1955</td>\n",
       "      <td>10</td>\n",
       "      <td>17</td>\n",
       "      <td>Autumn</td>\n",
       "      <td>GBR</td>\n",
       "      <td>United Kingdom</td>\n",
       "      <td>England</td>\n",
       "      <td>Chester</td>\n",
       "      <td>53.200000</td>\n",
       "      <td>-2.916667</td>\n",
       "      <td>Circle</td>\n",
       "      <td>20.0</td>\n",
       "      <td>20 seconds</td>\n",
       "      <td>Green/Orange circular disc over Chester&amp;#44 En...</td>\n",
       "    </tr>\n",
       "    <tr>\n",
       "      <th>3</th>\n",
       "      <td>1956-10-10 21:00:00</td>\n",
       "      <td>1/17/2004</td>\n",
       "      <td>1956</td>\n",
       "      <td>10</td>\n",
       "      <td>21</td>\n",
       "      <td>Autumn</td>\n",
       "      <td>USA</td>\n",
       "      <td>United States</td>\n",
       "      <td>Texas</td>\n",
       "      <td>Edna</td>\n",
       "      <td>28.978333</td>\n",
       "      <td>-96.645833</td>\n",
       "      <td>Circle</td>\n",
       "      <td>20.0</td>\n",
       "      <td>1/2 hour</td>\n",
       "      <td>My older brother and twin sister were leaving ...</td>\n",
       "    </tr>\n",
       "    <tr>\n",
       "      <th>4</th>\n",
       "      <td>1960-10-10 20:00:00</td>\n",
       "      <td>1/22/2004</td>\n",
       "      <td>1960</td>\n",
       "      <td>10</td>\n",
       "      <td>20</td>\n",
       "      <td>Autumn</td>\n",
       "      <td>USA</td>\n",
       "      <td>United States</td>\n",
       "      <td>Hawaii</td>\n",
       "      <td>Kaneohe</td>\n",
       "      <td>21.418056</td>\n",
       "      <td>-157.803611</td>\n",
       "      <td>Light</td>\n",
       "      <td>900.0</td>\n",
       "      <td>15 minutes</td>\n",
       "      <td>AS a Marine 1st Lt. flying an FJ4B fighter/att...</td>\n",
       "    </tr>\n",
       "  </tbody>\n",
       "</table>\n",
       "</div>"
      ],
      "text/plain": [
       "             Date_time date_documented  Year  Month  Hour  Season  \\\n",
       "0  1949-10-10 20:30:00       4/27/2004  1949     10    20  Autumn   \n",
       "1  1949-10-10 21:00:00      12/16/2005  1949     10    21  Autumn   \n",
       "2  1955-10-10 17:00:00       1/21/2008  1955     10    17  Autumn   \n",
       "3  1956-10-10 21:00:00       1/17/2004  1956     10    21  Autumn   \n",
       "4  1960-10-10 20:00:00       1/22/2004  1960     10    20  Autumn   \n",
       "\n",
       "  Country_Code         Country   Region        Locale   latitude   longitude  \\\n",
       "0          USA   United States    Texas    San Marcos  29.883056  -97.941111   \n",
       "1          USA   United States    Texas  Bexar County  29.384210  -98.581082   \n",
       "2          GBR  United Kingdom  England       Chester  53.200000   -2.916667   \n",
       "3          USA   United States    Texas          Edna  28.978333  -96.645833   \n",
       "4          USA   United States   Hawaii       Kaneohe  21.418056 -157.803611   \n",
       "\n",
       "  UFO_shape  length_of_encounter_seconds Encounter_Duration  \\\n",
       "0  Cylinder                       2700.0         45 minutes   \n",
       "1     Light                       7200.0            1-2 hrs   \n",
       "2    Circle                         20.0         20 seconds   \n",
       "3    Circle                         20.0           1/2 hour   \n",
       "4     Light                        900.0         15 minutes   \n",
       "\n",
       "                                         Description  \n",
       "0  This event took place in early fall around 194...  \n",
       "1  1949 Lackland AFB&#44 TX.  Lights racing acros...  \n",
       "2  Green/Orange circular disc over Chester&#44 En...  \n",
       "3  My older brother and twin sister were leaving ...  \n",
       "4  AS a Marine 1st Lt. flying an FJ4B fighter/att...  "
      ]
     },
     "execution_count": 32,
     "metadata": {},
     "output_type": "execute_result"
    }
   ],
   "source": [
    "df_ufo_excel.head()"
   ]
  },
  {
   "cell_type": "markdown",
   "metadata": {},
   "source": [
    "🚨⚠️ NOTA Puede que al ejecutar este línea de código os salga un error:"
   ]
  },
  {
   "cell_type": "markdown",
   "metadata": {},
   "source": [
    "DON'T PANIC!!! Lo único que tendrás que hacer es importaros openpyxl. ¿Cómo?\n",
    "\n",
    "Vas a la terminal y ejecutas el siguiente código:\n",
    "pip3 install openpyxl\n",
    "o\n",
    "\n",
    "pip install openpyxl"
   ]
  },
  {
   "cell_type": "markdown",
   "metadata": {},
   "source": [
    "Hay muchos más parámetros que puedes usar al abrir este tipo de archivos, como por ejemplo saltar las primeras líneas del archivo de Excel o abrir los datos de una pestaña en concreto del documento. Aquí tienes la documentación para que le eches un vistazo: [read_excel](https://pandas.pydata.org/docs/reference/api/pandas.read_excel.html)"
   ]
  },
  {
   "cell_type": "markdown",
   "metadata": {},
   "source": [
    "# Apertura de json con Pandas:"
   ]
  },
  {
   "cell_type": "markdown",
   "metadata": {},
   "source": [
    "Ahora vamos a ver cómo abrir un archivo de tipo \"json\" con pandas:"
   ]
  },
  {
   "cell_type": "code",
   "execution_count": 38,
   "metadata": {},
   "outputs": [],
   "source": [
    "df = pd.read_json(\"one_piece.json\")"
   ]
  },
  {
   "cell_type": "code",
   "execution_count": 39,
   "metadata": {},
   "outputs": [],
   "source": [
    "# Cambia el índice del DataFrame para que sea la primera columna.\n",
    "df.set_index(df.columns[3], inplace=True)"
   ]
  },
  {
   "cell_type": "code",
   "execution_count": 40,
   "metadata": {},
   "outputs": [
    {
     "data": {
      "text/html": [
       "<div>\n",
       "<style scoped>\n",
       "    .dataframe tbody tr th:only-of-type {\n",
       "        vertical-align: middle;\n",
       "    }\n",
       "\n",
       "    .dataframe tbody tr th {\n",
       "        vertical-align: top;\n",
       "    }\n",
       "\n",
       "    .dataframe thead th {\n",
       "        text-align: right;\n",
       "    }\n",
       "</style>\n",
       "<table border=\"1\" class=\"dataframe\">\n",
       "  <thead>\n",
       "    <tr style=\"text-align: right;\">\n",
       "      <th></th>\n",
       "      <th>rank</th>\n",
       "      <th>trend</th>\n",
       "      <th>season</th>\n",
       "      <th>name</th>\n",
       "      <th>start</th>\n",
       "      <th>total_votes</th>\n",
       "      <th>average_rating</th>\n",
       "    </tr>\n",
       "    <tr>\n",
       "      <th>episode</th>\n",
       "      <th></th>\n",
       "      <th></th>\n",
       "      <th></th>\n",
       "      <th></th>\n",
       "      <th></th>\n",
       "      <th></th>\n",
       "      <th></th>\n",
       "    </tr>\n",
       "  </thead>\n",
       "  <tbody>\n",
       "    <tr>\n",
       "      <th>1</th>\n",
       "      <td>24,129</td>\n",
       "      <td>18</td>\n",
       "      <td>1</td>\n",
       "      <td>I'm Luffy! The Man Who Will Become the Pirate ...</td>\n",
       "      <td>1999</td>\n",
       "      <td>647</td>\n",
       "      <td>7.6</td>\n",
       "    </tr>\n",
       "    <tr>\n",
       "      <th>2</th>\n",
       "      <td>29,290</td>\n",
       "      <td>11</td>\n",
       "      <td>1</td>\n",
       "      <td>The Great Swordsman Appears! Pirate Hunter, Ro...</td>\n",
       "      <td>1999</td>\n",
       "      <td>473</td>\n",
       "      <td>7.8</td>\n",
       "    </tr>\n",
       "    <tr>\n",
       "      <th>3</th>\n",
       "      <td>32,043</td>\n",
       "      <td>7</td>\n",
       "      <td>1</td>\n",
       "      <td>Morgan vs. Luffy! Who's This Beautiful Young G...</td>\n",
       "      <td>1999</td>\n",
       "      <td>428</td>\n",
       "      <td>7.7</td>\n",
       "    </tr>\n",
       "    <tr>\n",
       "      <th>4</th>\n",
       "      <td>28,818</td>\n",
       "      <td>8</td>\n",
       "      <td>1</td>\n",
       "      <td>Luffy's Past! The Red-haired Shanks Appears!</td>\n",
       "      <td>1999</td>\n",
       "      <td>449</td>\n",
       "      <td>8.1</td>\n",
       "    </tr>\n",
       "    <tr>\n",
       "      <th>5</th>\n",
       "      <td>37,113</td>\n",
       "      <td>4</td>\n",
       "      <td>1</td>\n",
       "      <td>Fear, Mysterious Power! Pirate Clown Captain B...</td>\n",
       "      <td>1999</td>\n",
       "      <td>370</td>\n",
       "      <td>7.5</td>\n",
       "    </tr>\n",
       "  </tbody>\n",
       "</table>\n",
       "</div>"
      ],
      "text/plain": [
       "           rank  trend  season  \\\n",
       "episode                          \n",
       "1        24,129     18       1   \n",
       "2        29,290     11       1   \n",
       "3        32,043      7       1   \n",
       "4        28,818      8       1   \n",
       "5        37,113      4       1   \n",
       "\n",
       "                                                      name  start  \\\n",
       "episode                                                             \n",
       "1        I'm Luffy! The Man Who Will Become the Pirate ...   1999   \n",
       "2        The Great Swordsman Appears! Pirate Hunter, Ro...   1999   \n",
       "3        Morgan vs. Luffy! Who's This Beautiful Young G...   1999   \n",
       "4             Luffy's Past! The Red-haired Shanks Appears!   1999   \n",
       "5        Fear, Mysterious Power! Pirate Clown Captain B...   1999   \n",
       "\n",
       "         total_votes  average_rating  \n",
       "episode                               \n",
       "1                647             7.6  \n",
       "2                473             7.8  \n",
       "3                428             7.7  \n",
       "4                449             8.1  \n",
       "5                370             7.5  "
      ]
     },
     "execution_count": 40,
     "metadata": {},
     "output_type": "execute_result"
    }
   ],
   "source": [
    "df.head()"
   ]
  },
  {
   "cell_type": "markdown",
   "metadata": {},
   "source": [
    "Al igual que antes, con este DataFrame puedes aplicar los métodos de Pandas que has aprendido, incluso guardarlo con otro formato cómo por ejemplo \"csv\":"
   ]
  },
  {
   "cell_type": "code",
   "execution_count": 41,
   "metadata": {},
   "outputs": [],
   "source": [
    "df.to_csv(\"one_piece.csv\")"
   ]
  }
 ],
 "metadata": {
  "kernelspec": {
   "display_name": "Python 3 (ipykernel)",
   "language": "python",
   "name": "python3"
  },
  "language_info": {
   "codemirror_mode": {
    "name": "ipython",
    "version": 3
   },
   "file_extension": ".py",
   "mimetype": "text/x-python",
   "name": "python",
   "nbconvert_exporter": "python",
   "pygments_lexer": "ipython3",
   "version": "3.11.7"
  },
  "toc": {
   "base_numbering": 1,
   "nav_menu": {},
   "number_sections": true,
   "sideBar": true,
   "skip_h1_title": false,
   "title_cell": "Table of Contents",
   "title_sidebar": "Contents",
   "toc_cell": true,
   "toc_position": {
    "height": "calc(100% - 180px)",
    "left": "10px",
    "top": "150px",
    "width": "384px"
   },
   "toc_section_display": true,
   "toc_window_display": true
  },
  "vscode": {
   "interpreter": {
    "hash": "45f2e19768680f736caea9664c7aaaad3b325a359584ead4873ebd33db26fb52"
   }
  }
 },
 "nbformat": 4,
 "nbformat_minor": 2
}
